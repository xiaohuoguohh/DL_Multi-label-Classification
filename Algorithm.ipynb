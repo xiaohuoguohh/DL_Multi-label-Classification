{
 "cells": [
  {
   "cell_type": "markdown",
   "metadata": {},
   "source": [
    "# COMP5329 - Deep Learning : Assignment 2"
   ]
  },
  {
   "cell_type": "markdown",
   "metadata": {},
   "source": [
    "### Readme\n",
    "How to run：\n",
    "- You need to put the dataset into the folder 'Input' to ensure that the data and csv are read properly.\n",
    "- First you need to run all the code in section 1, 2 to import the necessary packages,data and some functions to implement the model.\n",
    "- In the next step I suggest you skip section 3.and 4. These sections are used to compare experiments and find the best model. If you need to check,run the following code, which will take you a lot of time, at least 3 hour or more, if you don't need to confirm please skip directly to the optimal model training and testing section(Section 5).\n",
    "- In the last step you can run all the code in Section5 and you will get the same results and data as we did. (around 1 hour)\n",
    "\n",
    "The following codes are all running through: \n",
    "- Hardware：CPU:Intel(R) Core(TM) i9-10850K CPU @ 3.60GHz   3.60 GHz\n",
    "- Hardware: GUP:Chipset: NVIDIA GeForce RTX 2080 with 11GB GDDR6\n",
    "- Software： the jupyter notebook."
   ]
  },
  {
   "cell_type": "markdown",
   "metadata": {},
   "source": [
    "## Section1 import packages"
   ]
  },
  {
   "cell_type": "code",
   "execution_count": 1,
   "metadata": {
    "id": "vdzA0XfqAPkH"
   },
   "outputs": [],
   "source": [
    "import re\n",
    "import pandas as pd\n",
    "from io import StringIO\n",
    "from sklearn.metrics import  f1_score\n",
    "import os\n",
    "from tqdm import tqdm\n",
    "import torch, torchvision\n",
    "import torch.nn as nn\n",
    "import torch.nn.functional as F\n",
    "import torch.optim as optim\n",
    "from torch.utils.data.dataset import Dataset\n",
    "from torchvision import transforms \n",
    "from torchvision.transforms import Compose\n",
    "from PIL import Image\n",
    "import numpy as np\n",
    "import matplotlib.pyplot as plt \n",
    "import torchvision.models as models\n",
    "device = torch.device(\"cuda\")\n",
    "import sentencepiece\n",
    "from transformers import BertTokenizer, BertModel"
   ]
  },
  {
   "cell_type": "markdown",
   "metadata": {},
   "source": [
    "## Section2 Preprocessing data"
   ]
  },
  {
   "cell_type": "code",
   "execution_count": 2,
   "metadata": {
    "id": "Bzlv5S9bMdTa"
   },
   "outputs": [],
   "source": [
    "data_path = 'Input/data'\n",
    "FILENAME = 'Input/train.csv'\n",
    "with open(FILENAME) as file:\n",
    "  lines = [re.sub(r'([^,])\"(\\s*[^\\n])', r'\\1/\"\\2', line) for line in file]\n",
    "  train_df = pd.read_csv(StringIO(''.join(lines)), escapechar=\"/\")\n",
    "\n",
    "FILENAME = 'Input/test.csv'\n",
    "with open(FILENAME) as file:\n",
    "  lines = [re.sub(r'([^,])\"(\\s*[^\\n])', r'\\1/\"\\2', line) for line in file]\n",
    "  test_df = pd.read_csv(StringIO(''.join(lines)), escapechar=\"/\")"
   ]
  },
  {
   "cell_type": "code",
   "execution_count": 3,
   "metadata": {
    "id": "yAf4oourMelt"
   },
   "outputs": [],
   "source": [
    "transforms_imag=torchvision.transforms.Compose([torchvision.transforms.Resize([224,224]),\n",
    "                                                torchvision.transforms.ToTensor(),\n",
    "                                                transforms.RandomHorizontalFlip(p=0.5),\n",
    "                                                transforms.RandomVerticalFlip(p=0.5),\n",
    "                                                transforms.RandomRotation(30),\n",
    "                                                torchvision.transforms.Normalize((0.464, 0.449, 0.421), (0.235, 0.228, 0.232))\n",
    "                                               ])"
   ]
  },
  {
   "cell_type": "code",
   "execution_count": 4,
   "metadata": {},
   "outputs": [
    {
     "data": {
      "text/plain": [
       "51.98279770636085"
      ]
     },
     "execution_count": 4,
     "metadata": {},
     "output_type": "execute_result"
    }
   ],
   "source": [
    "len_list = []\n",
    "for i in train_df['Caption']:\n",
    "    len_list.append(len(i))\n",
    "np.mean(len_list)"
   ]
  },
  {
   "cell_type": "markdown",
   "metadata": {},
   "source": [
    "### 2.1 Get word embedding of Caption by pre-training model Bert"
   ]
  },
  {
   "cell_type": "code",
   "execution_count": 5,
   "metadata": {
    "colab": {
     "base_uri": "https://localhost:8080/",
     "height": 711,
     "referenced_widgets": [
      "a90c179ab24c45739ea8a866fdafc46d",
      "38c101147e6b4b23935716156feb866d",
      "a65acab6e1714cf687e8f979207be605",
      "ab8d702516194d33ba94c09b812b2fe6",
      "4779990396f14266af8fdd81d0891332",
      "62e377a24c4142c68f47e2c5ec8198ef",
      "ba1eac9c73cd4391befebffd0ac26c13",
      "eef9f7ade52d423f97ff0f4d6439c114",
      "cdaa92ba317747e081ee9f966c2baf86",
      "aaa91684c4224d2a9ae9cd91e4fe7da9",
      "03032f9534e247e4a216ad13cc71f60c",
      "cfe65ffc1da64685af986d81da965065",
      "c40f0e4ce5ad4acd87c54ff2c5ef8db6",
      "ce68a00fa6d74b6980d69f9bd28d9270",
      "43253b42373340a8ac8fb9942f9ee786",
      "4affbc52441946b1a16fdb76d849192f",
      "56008a90abb34744846f3f9b2f0c94c6",
      "39304e7bc1584df4aa80af0e7604e1d6",
      "bd6377b0ccb542c487e08dd362d51e07",
      "f6ab1db000ff4f548f38f78246836d41",
      "7d9c61014cf6446ea74e11cb2d30248a",
      "1b3ca97f3e014eb08418374bcc43ea63",
      "b19e851d2a14465fa7cb4e6bf21b36e0",
      "8836f06ed36e430198ffe4c7848fe5cc",
      "89d17234db0e4f2eb2719af6a0d23388",
      "9b30693121bd40d0834894aab5c999e2",
      "7c952023f0494946b35330daecef239f",
      "3fa6e13deb4446eaaeca69790a3f00e5",
      "2c940f2386524268a4480d4bede9762f",
      "e40ed477c1e34083aea1c351ca6c6c04",
      "14da997c0d254e05aae6f97ed8b90a21",
      "c27dd470085b47a8878dc5aa337f8be9",
      "421d33ab9b274eacadae3048e1d7a8d6",
      "e606cc634e344d6abedd2e81f0a5b643",
      "100ff2cdbc4947c98eb653762f77870d",
      "3e22013c70b5460ab43a8dd7ea2ab9e1",
      "18381a0bb79a44818da9f4b5e4d559cc",
      "2b89f4aa0b8643aa98759aff78c3748f",
      "95d3feb01a404ba9b774f01ca3aea37e",
      "78b5eae47e5d4db39f699e4260701394"
     ]
    },
    "id": "MRmHEy9hR5Mw",
    "outputId": "6a720466-c1bf-42a9-9762-46e4e0404ffc",
    "scrolled": true
   },
   "outputs": [
    {
     "name": "stderr",
     "output_type": "stream",
     "text": [
      "Some weights of the model checkpoint at bert-base-uncased were not used when initializing BertModel: ['cls.predictions.transform.LayerNorm.bias', 'cls.predictions.bias', 'cls.predictions.transform.dense.bias', 'cls.seq_relationship.weight', 'cls.seq_relationship.bias', 'cls.predictions.transform.dense.weight', 'cls.predictions.decoder.weight', 'cls.predictions.transform.LayerNorm.weight']\n",
      "- This IS expected if you are initializing BertModel from the checkpoint of a model trained on another task or with another architecture (e.g. initializing a BertForSequenceClassification model from a BertForPreTraining model).\n",
      "- This IS NOT expected if you are initializing BertModel from the checkpoint of a model that you expect to be exactly identical (initializing a BertForSequenceClassification model from a BertForSequenceClassification model).\n"
     ]
    }
   ],
   "source": [
    "tokenizer = BertTokenizer.from_pretrained('bert-base-uncased')\n",
    "bert = BertModel.from_pretrained('bert-base-uncased').cuda()\n",
    "def embedding(sentence):\n",
    "    inputs = tokenizer.encode_plus(\n",
    "        sentence,\n",
    "        None,\n",
    "        add_special_tokens=True,\n",
    "        max_length=80,\n",
    "        padding='max_length',\n",
    "        return_token_type_ids=True,\n",
    "        truncation=True\n",
    "    )\n",
    "    ids = torch.tensor(inputs['input_ids'], dtype=torch.long).unsqueeze(0).cuda()\n",
    "    mask = torch.tensor(inputs['attention_mask'], dtype=torch.long).unsqueeze(0).cuda()\n",
    "    token_type_ids = torch.tensor(inputs[\"token_type_ids\"], dtype=torch.long).unsqueeze(0).cuda()\n",
    "    bert_output = bert(ids, attention_mask = mask, token_type_ids = token_type_ids)  \n",
    "    bert_output = bert_output.last_hidden_state.view(80, 768).cpu().detach().numpy()\n",
    "    return bert_output"
   ]
  },
  {
   "cell_type": "code",
   "execution_count": 6,
   "metadata": {
    "id": "3of-PyhNR8UG"
   },
   "outputs": [
    {
     "name": "stderr",
     "output_type": "stream",
     "text": [
      "C:\\Users\\will\\anaconda3\\lib\\site-packages\\tqdm\\std.py:697: FutureWarning: The Panel class is removed from pandas. Accessing it from the top-level namespace will also be removed in the next version\n",
      "  from pandas import Panel\n",
      "apply: 100%|█████████████████████████████████████████████████████████████████████| 29996/29996 [05:53<00:00, 84.83it/s]\n",
      "apply: 100%|█████████████████████████████████████████████████████████████████████| 10000/10000 [01:57<00:00, 84.80it/s]\n"
     ]
    }
   ],
   "source": [
    "tqdm.pandas(desc='apply')\n",
    "train_df['Caption'] = train_df['Caption'] .progress_apply(embedding)\n",
    "test_df['Caption'] = test_df['Caption'] .progress_apply(embedding)"
   ]
  },
  {
   "cell_type": "markdown",
   "metadata": {},
   "source": [
    "### 2.2 Customize the MyDataset function and convert the labels to one-hot encoding and set up cross-validation"
   ]
  },
  {
   "cell_type": "code",
   "execution_count": 20,
   "metadata": {
    "id": "PZjkwRaRM2N1"
   },
   "outputs": [],
   "source": [
    "class MyDataset(Dataset):\n",
    "\n",
    "    def __init__(self,input_root,label_df,transform,test = False):\n",
    "      \n",
    "        self.input_root=input_root\n",
    "        self.input_files=os.listdir(input_root)\n",
    "        self.label_df = label_df\n",
    "        self.transforms = transform\n",
    "        self.test = test\n",
    "\n",
    "    def __len__(self):\n",
    "        #get dataset size\n",
    "        return len(self.label_df['ImageID'])\n",
    "    def __getitem__(self, index):\n",
    "        #get image according to index### 2.1 Get word embedding of Caption by pre-training model Bert\n",
    "        id = self.label_df['ImageID'][index]\n",
    "        input_img_path=os.path.join(self.input_root,id)\n",
    "        input_img=Image.open(input_img_path)\n",
    "\n",
    "        if self.transforms:\n",
    "            #transforms\n",
    "            input_img=self.transforms(input_img)\n",
    "\n",
    "        bert_embedding = torch.tensor(self.label_df['Caption'][index])\n",
    "\n",
    "        if self.test:\n",
    "\n",
    "            return (input_img,id,bert_embedding)\n",
    "\n",
    "        else:\n",
    "\n",
    "            label_img=self.label_df['Labels'][index].split(\" \")\n",
    "            one_hot_label = np.zeros(20)\n",
    "            for i in range(len(label_img)):\n",
    "                one_hot_label += np.eye(20)[int(label_img[i])]\n",
    "\n",
    "            return (input_img,one_hot_label,id,bert_embedding)"
   ]
  },
  {
   "cell_type": "code",
   "execution_count": 21,
   "metadata": {
    "id": "Lfj3q-kZynhU"
   },
   "outputs": [],
   "source": [
    "valid_size = 0.2\n",
    "valid_dataset_1 = train_df.sample(frac=valid_size,random_state=None)\n",
    "train_dataset_1 = train_df.drop(valid_dataset_1.index)\n",
    "valid_size_2 = 0.25\n",
    "valid_dataset_2 = train_dataset_1.sample(frac=valid_size_2,random_state=None)\n",
    "train_dataset_2 = train_df.drop(valid_dataset_2.index)\n",
    "\n",
    "train_dataset_1 = train_dataset_1.reset_index(drop=True)\n",
    "valid_dataset_1 = valid_dataset_1.reset_index(drop=True)\n",
    "train_dataset_2 = train_dataset_2.reset_index(drop=True)\n",
    "valid_dataset_2 = valid_dataset_2.reset_index(drop=True)"
   ]
  },
  {
   "cell_type": "code",
   "execution_count": 22,
   "metadata": {
    "id": "W0znXX_NYzoy"
   },
   "outputs": [],
   "source": [
    "training_set_1 = MyDataset(data_path, train_dataset_1, transforms_imag)\n",
    "validation_set_1 = MyDataset(data_path, valid_dataset_1, transforms_imag)\n",
    "training_set_2 = MyDataset(data_path, train_dataset_2, transforms_imag)\n",
    "validation_set_2 = MyDataset(data_path, valid_dataset_2, transforms_imag)\n",
    "test_dataset = MyDataset(data_path, test_df, transforms_imag,test=True)\n",
    "\n",
    "train_loader_1 = torch.utils.data.DataLoader(training_set_1,batch_size=64, shuffle=True)\n",
    "valid_loader_1 = torch.utils.data.DataLoader(validation_set_1,batch_size=64, shuffle=True)\n",
    "train_loader_2 = torch.utils.data.DataLoader(training_set_2,batch_size=64, shuffle=True)\n",
    "valid_loader_2 = torch.utils.data.DataLoader(validation_set_2,batch_size=64, shuffle=True)\n",
    "test_loader = torch.utils.data.DataLoader(test_dataset,batch_size=64, shuffle=False)"
   ]
  },
  {
   "cell_type": "code",
   "execution_count": 23,
   "metadata": {
    "id": "t4jCfdG9lG1A"
   },
   "outputs": [],
   "source": [
    "def onehot_to_labels(labels):\n",
    "    tag = []\n",
    "    for i,label in enumerate(labels):\n",
    "        if label == 1:\n",
    "            tag.append(i)\n",
    "    tag = \" \".join(str(i) for i in tag)\n",
    "    return tag\n"
   ]
  },
  {
   "cell_type": "markdown",
   "metadata": {},
   "source": [
    "# 3.Train different models to get the best model"
   ]
  },
  {
   "cell_type": "markdown",
   "metadata": {
    "id": "B5kOOgLKuEPQ"
   },
   "source": [
    "### 3.1 Resnext50 based models "
   ]
  },
  {
   "cell_type": "code",
   "execution_count": 7,
   "metadata": {
    "id": "YYWy7ZwwZiQ0"
   },
   "outputs": [],
   "source": [
    "#Use the pre-trained resnext50_32x4d model and modify the fully connected layer\n",
    "class Resnext50(nn.Module):\n",
    "    def __init__(self):\n",
    "        super().__init__()\n",
    "        resnet = models.resnext50_32x4d(pretrained=True)\n",
    "        resnet.fc = nn.Sequential(\n",
    "            nn.Dropout(0.5),\n",
    "            nn.Linear(in_features=resnet.fc.in_features, out_features=20)\n",
    "        )\n",
    "        self.base_model = resnet\n",
    "\n",
    "    def forward(self, x):\n",
    "        res_feat = self.base_model(x)\n",
    "        return res_feat\n"
   ]
  },
  {
   "cell_type": "code",
   "execution_count": 15,
   "metadata": {
    "colab": {
     "base_uri": "https://localhost:8080/"
    },
    "id": "4jR6KY4Ek568",
    "outputId": "b291b5e1-7205-482e-ae98-975589677a97"
   },
   "outputs": [],
   "source": [
    "class ChannelAtt(nn.Module):\n",
    "    def __init__(self, in_planes, ratio=16):\n",
    "        super(ChannelAtt, self).__init__()\n",
    "        self.avg_pool = nn.AdaptiveAvgPool2d(1)\n",
    "        self.max_pool = nn.AdaptiveMaxPool2d(1)\n",
    "        self.fc1   = nn.Conv2d(in_planes, in_planes // 16, 1, bias=False)\n",
    "        self.relu1 = nn.ReLU()\n",
    "        self.fc2   = nn.Conv2d(in_planes // 16, in_planes, 1, bias=False)\n",
    "        self.sigmoid = nn.Sigmoid()\n",
    "\n",
    "    def forward(self, x):\n",
    "        inp = x\n",
    "        avg_out = self.fc2(self.relu1(self.fc1(self.avg_pool(x))))\n",
    "        max_out = self.fc2(self.relu1(self.fc1(self.max_pool(x))))\n",
    "        out = avg_out + max_out\n",
    "        output = inp * (self.sigmoid(out))\n",
    "        output = self.avg_pool(output)\n",
    "        return output"
   ]
  },
  {
   "cell_type": "code",
   "execution_count": 62,
   "metadata": {
    "id": "ikHQ3vOL7LJZ"
   },
   "outputs": [],
   "source": [
    "#Define Resnet50, change the avgpool layer to attention layer, \n",
    "# and output 20 features from the fully connected layer\n",
    "class Resnext50_att_1(nn.Module):\n",
    "    def __init__(self):\n",
    "        super().__init__()\n",
    "        resnet = models.resnext50_32x4d(pretrained=True)\n",
    "        resnet.avgpool = nn.Sequential(\n",
    "            ChannelAtt(in_planes = 2048)\n",
    "        )\n",
    "        resnet.fc = nn.Sequential(\n",
    "            nn.Dropout(p=0.5),\n",
    "            nn.Linear(in_features=resnet.fc.in_features, out_features=20)\n",
    "        )\n",
    "\n",
    "        self.base_model = resnet\n",
    "\n",
    "    def forward(self, x):\n",
    "\n",
    "        x = self.base_model(x)\n",
    "\n",
    "        return x"
   ]
  },
  {
   "cell_type": "markdown",
   "metadata": {},
   "source": [
    "#### Training Resnext50 model"
   ]
  },
  {
   "cell_type": "code",
   "execution_count": 63,
   "metadata": {
    "scrolled": true
   },
   "outputs": [
    {
     "name": "stderr",
     "output_type": "stream",
     "text": [
      "100%|████████████████████████████████████████████████████████████████████████████████| 375/375 [03:52<00:00,  1.61it/s]\n",
      "100%|██████████████████████████████████████████████████████████████████████████████████| 94/94 [00:52<00:00,  1.78it/s]\n",
      "  0%|                                                                                          | 0/375 [00:00<?, ?it/s]"
     ]
    },
    {
     "name": "stdout",
     "output_type": "stream",
     "text": [
      "epoch: 0  train: loss:0.13287023 valid: loss:0.09586155  valid f1:0.780089\n"
     ]
    },
    {
     "name": "stderr",
     "output_type": "stream",
     "text": [
      "100%|████████████████████████████████████████████████████████████████████████████████| 375/375 [03:46<00:00,  1.66it/s]\n",
      "100%|██████████████████████████████████████████████████████████████████████████████████| 94/94 [00:52<00:00,  1.78it/s]\n",
      "  0%|                                                                                          | 0/375 [00:00<?, ?it/s]"
     ]
    },
    {
     "name": "stdout",
     "output_type": "stream",
     "text": [
      "epoch: 1  train: loss:0.08886029 valid: loss:0.09110178  valid f1:0.785910\n"
     ]
    },
    {
     "name": "stderr",
     "output_type": "stream",
     "text": [
      "100%|████████████████████████████████████████████████████████████████████████████████| 375/375 [03:46<00:00,  1.66it/s]\n",
      "100%|██████████████████████████████████████████████████████████████████████████████████| 94/94 [00:52<00:00,  1.78it/s]\n",
      "  0%|                                                                                          | 0/375 [00:00<?, ?it/s]"
     ]
    },
    {
     "name": "stdout",
     "output_type": "stream",
     "text": [
      "epoch: 2  train: loss:0.07890862 valid: loss:0.08966113  valid f1:0.804622\n"
     ]
    },
    {
     "name": "stderr",
     "output_type": "stream",
     "text": [
      "100%|████████████████████████████████████████████████████████████████████████████████| 375/375 [03:45<00:00,  1.66it/s]\n",
      "100%|██████████████████████████████████████████████████████████████████████████████████| 94/94 [00:52<00:00,  1.79it/s]\n",
      "  0%|                                                                                          | 0/375 [00:00<?, ?it/s]"
     ]
    },
    {
     "name": "stdout",
     "output_type": "stream",
     "text": [
      "epoch: 3  train: loss:0.07054646 valid: loss:0.09036982  valid f1:0.797613\n"
     ]
    },
    {
     "name": "stderr",
     "output_type": "stream",
     "text": [
      "100%|████████████████████████████████████████████████████████████████████████████████| 375/375 [03:45<00:00,  1.66it/s]\n",
      "100%|██████████████████████████████████████████████████████████████████████████████████| 94/94 [00:52<00:00,  1.78it/s]\n",
      "  0%|                                                                                          | 0/375 [00:00<?, ?it/s]"
     ]
    },
    {
     "name": "stdout",
     "output_type": "stream",
     "text": [
      "epoch: 4  train: loss:0.06454304 valid: loss:0.09052069  valid f1:0.807986\n"
     ]
    },
    {
     "name": "stderr",
     "output_type": "stream",
     "text": [
      "100%|████████████████████████████████████████████████████████████████████████████████| 375/375 [03:45<00:00,  1.66it/s]\n",
      "100%|██████████████████████████████████████████████████████████████████████████████████| 94/94 [00:52<00:00,  1.79it/s]"
     ]
    },
    {
     "name": "stdout",
     "output_type": "stream",
     "text": [
      "epoch: 5  train: loss:0.05815088 valid: loss:0.09293178  valid f1:0.799361\n"
     ]
    },
    {
     "name": "stderr",
     "output_type": "stream",
     "text": [
      "\n"
     ]
    }
   ],
   "source": [
    "resnet = Resnext50().cuda()\n",
    "resnet.train()\n",
    "learning_rate = 1e-4\n",
    "optimizer = torch.optim.AdamW(resnet.parameters(), lr=learning_rate)\n",
    "criterion = nn.BCEWithLogitsLoss()\n",
    "\n",
    "epoch = 0\n",
    "max_epoch_number = 5\n",
    "loss = 1000\n",
    "resnet50_loss = []\n",
    "resnet50_loss_vl = []\n",
    "resnet50_f1 = []\n",
    "while True:\n",
    "    resnet.train()\n",
    "    batch_losses = []\n",
    "    for imgs, targets,_,_ in tqdm(train_loader_1):\n",
    "        imgs, targets = imgs.to(device), targets.to(device)\n",
    "\n",
    "        optimizer.zero_grad()\n",
    "        model_result = resnet(imgs)\n",
    "        loss = criterion(model_result, targets.type(torch.float))\n",
    "        batch_loss_value = loss.item()\n",
    "        loss.backward()\n",
    "        optimizer.step()\n",
    "        \n",
    "        batch_losses.append(batch_loss_value)\n",
    "\n",
    "    loss_value = np.mean(batch_losses)\n",
    "\n",
    "    resnet.eval()\n",
    "    with torch.no_grad():\n",
    "        vaild_result = []\n",
    "        targets = []\n",
    "        val_losses = []\n",
    "        for imgs,target,id,_ in tqdm(valid_loader_1):\n",
    "\n",
    "            imgs, target = imgs.to(device), target.to(device)\n",
    "\n",
    "            valid_batch_result = resnet(imgs)\n",
    "            vaild_result.extend(valid_batch_result.cpu().numpy())\n",
    "\n",
    "            loss = criterion(valid_batch_result, target.type(torch.float))\n",
    "            targets.extend(target.cpu().numpy())\n",
    "            batch_loss_value = loss.item()\n",
    "            val_losses.append(batch_loss_value)\n",
    "    valid_loss = np.mean(val_losses)\n",
    "    vaild_result = np.array(np.array(vaild_result) > 0, dtype=float)\n",
    "\n",
    "    f1 = f1_score(y_true=targets, y_pred=vaild_result, average='samples')\n",
    "    resnet50_loss.append(loss_value)\n",
    "    resnet50_loss_vl.append(valid_loss)\n",
    "    resnet50_f1.append(f1)\n",
    "\n",
    "    print(\"epoch:{:2d}  train: loss:{:.8f} valid: loss:{:.8f}  valid f1:{:3f}\".format(epoch,loss_value,valid_loss,f1))\n",
    "    epoch += 1\n",
    "    if max_epoch_number < epoch:\n",
    "        break"
   ]
  },
  {
   "cell_type": "markdown",
   "metadata": {},
   "source": [
    "#### Training Resnext50 with attention layer model"
   ]
  },
  {
   "cell_type": "code",
   "execution_count": 64,
   "metadata": {},
   "outputs": [
    {
     "name": "stderr",
     "output_type": "stream",
     "text": [
      "100%|████████████████████████████████████████████████████████████████████████████████| 375/375 [03:50<00:00,  1.63it/s]\n",
      "100%|██████████████████████████████████████████████████████████████████████████████████| 94/94 [00:53<00:00,  1.77it/s]\n",
      "  0%|                                                                                          | 0/375 [00:00<?, ?it/s]"
     ]
    },
    {
     "name": "stdout",
     "output_type": "stream",
     "text": [
      "epoch: 0  train: loss:0.14204308 valid: loss:0.09825142  valid f1:0.755838\n"
     ]
    },
    {
     "name": "stderr",
     "output_type": "stream",
     "text": [
      "100%|████████████████████████████████████████████████████████████████████████████████| 375/375 [03:47<00:00,  1.65it/s]\n",
      "100%|██████████████████████████████████████████████████████████████████████████████████| 94/94 [00:53<00:00,  1.76it/s]\n",
      "  0%|                                                                                          | 0/375 [00:00<?, ?it/s]"
     ]
    },
    {
     "name": "stdout",
     "output_type": "stream",
     "text": [
      "epoch: 1  train: loss:0.09022124 valid: loss:0.09175410  valid f1:0.788865\n"
     ]
    },
    {
     "name": "stderr",
     "output_type": "stream",
     "text": [
      "100%|████████████████████████████████████████████████████████████████████████████████| 375/375 [03:59<00:00,  1.57it/s]\n",
      "100%|██████████████████████████████████████████████████████████████████████████████████| 94/94 [00:53<00:00,  1.76it/s]\n",
      "  0%|                                                                                          | 0/375 [00:00<?, ?it/s]"
     ]
    },
    {
     "name": "stdout",
     "output_type": "stream",
     "text": [
      "epoch: 2  train: loss:0.07990404 valid: loss:0.09213481  valid f1:0.793054\n"
     ]
    },
    {
     "name": "stderr",
     "output_type": "stream",
     "text": [
      "100%|████████████████████████████████████████████████████████████████████████████████| 375/375 [03:52<00:00,  1.62it/s]\n",
      "100%|██████████████████████████████████████████████████████████████████████████████████| 94/94 [00:53<00:00,  1.75it/s]\n",
      "  0%|                                                                                          | 0/375 [00:00<?, ?it/s]"
     ]
    },
    {
     "name": "stdout",
     "output_type": "stream",
     "text": [
      "epoch: 3  train: loss:0.07218300 valid: loss:0.08951595  valid f1:0.804603\n"
     ]
    },
    {
     "name": "stderr",
     "output_type": "stream",
     "text": [
      "100%|████████████████████████████████████████████████████████████████████████████████| 375/375 [03:50<00:00,  1.62it/s]\n",
      "100%|██████████████████████████████████████████████████████████████████████████████████| 94/94 [00:53<00:00,  1.76it/s]\n",
      "  0%|                                                                                          | 0/375 [00:00<?, ?it/s]"
     ]
    },
    {
     "name": "stdout",
     "output_type": "stream",
     "text": [
      "epoch: 4  train: loss:0.06549798 valid: loss:0.09205923  valid f1:0.804002\n"
     ]
    },
    {
     "name": "stderr",
     "output_type": "stream",
     "text": [
      "100%|████████████████████████████████████████████████████████████████████████████████| 375/375 [03:48<00:00,  1.64it/s]\n",
      "100%|██████████████████████████████████████████████████████████████████████████████████| 94/94 [00:53<00:00,  1.75it/s]"
     ]
    },
    {
     "name": "stdout",
     "output_type": "stream",
     "text": [
      "epoch: 5  train: loss:0.05919203 valid: loss:0.09244867  valid f1:0.810263\n"
     ]
    },
    {
     "name": "stderr",
     "output_type": "stream",
     "text": [
      "\n"
     ]
    }
   ],
   "source": [
    "resnet = Resnext50_att_1().cuda()\n",
    "resnet.train()\n",
    "learning_rate = 1e-4\n",
    "optimizer = torch.optim.AdamW(resnet.parameters(), lr=learning_rate)\n",
    "criterion = nn.BCEWithLogitsLoss()\n",
    "\n",
    "epoch = 0\n",
    "max_epoch_number = 5\n",
    "loss = 1000\n",
    "resnet50_att_loss = []\n",
    "resnet50_att_loss_vl = []\n",
    "resnet50_att_f1 = []\n",
    "while True:\n",
    "    resnet.train()\n",
    "    batch_losses = []\n",
    "    for imgs, targets,_,_ in tqdm(train_loader_1):\n",
    "        imgs, targets = imgs.to(device), targets.to(device)\n",
    "\n",
    "        optimizer.zero_grad()\n",
    "        model_result = resnet(imgs)\n",
    "        loss = criterion(model_result, targets.type(torch.float))\n",
    "        batch_loss_value = loss.item()\n",
    "        loss.backward()\n",
    "        optimizer.step()\n",
    "        \n",
    "        batch_losses.append(batch_loss_value)\n",
    "\n",
    "    loss_value = np.mean(batch_losses)\n",
    "\n",
    "    resnet.eval()\n",
    "    with torch.no_grad():\n",
    "        vaild_result = []\n",
    "        targets = []\n",
    "        val_losses = []\n",
    "        for imgs,target,id,_ in tqdm(valid_loader_1):\n",
    "\n",
    "            imgs, target = imgs.to(device), target.to(device)\n",
    "\n",
    "            valid_batch_result = resnet(imgs)\n",
    "            vaild_result.extend(valid_batch_result.cpu().numpy())\n",
    "\n",
    "            loss = criterion(valid_batch_result, target.type(torch.float))\n",
    "            targets.extend(target.cpu().numpy())\n",
    "            batch_loss_value = loss.item()\n",
    "            val_losses.append(batch_loss_value)\n",
    "    valid_loss = np.mean(val_losses)\n",
    "    vaild_result = np.array(np.array(vaild_result) > 0, dtype=float)\n",
    "\n",
    "    f1 = f1_score(y_true=targets, y_pred=vaild_result, average='samples')\n",
    "    resnet50_att_loss.append(loss_value)\n",
    "    resnet50_att_loss_vl.append(valid_loss)\n",
    "    resnet50_att_f1.append(f1)\n",
    "\n",
    "    print(\"epoch:{:2d}  train: loss:{:.8f} valid: loss:{:.8f}  valid f1:{:3f}\".format(epoch,loss_value,valid_loss,f1))\n",
    "    epoch += 1\n",
    "    if max_epoch_number < epoch:\n",
    "        break"
   ]
  },
  {
   "cell_type": "code",
   "execution_count": 65,
   "metadata": {},
   "outputs": [
    {
     "data": {
      "image/png": "[encoded data removed]",
      "text/plain": [
       "<Figure size 576x432 with 1 Axes>"
      ]
     },
     "metadata": {
      "needs_background": "light"
     },
     "output_type": "display_data"
    }
   ],
   "source": [
    "plt.figure(figsize=(8,6))\n",
    "plt.plot(resnet50_loss)\n",
    "plt.plot(resnet50_loss_vl)\n",
    "plt.plot(resnet50_att_loss)\n",
    "plt.plot(resnet50_att_loss_vl)\n",
    "plt.xlabel('Epoch')\n",
    "plt.ylabel('Loss')\n",
    "plt.title('resnet50 vs resnet50_attention with 6 epoch,learning rate = 0.0001')\n",
    "plt.legend(['resnet50 train','resnet50 validation','resnet50_attention train','resnet50_attention validation'],loc='best')\n",
    "plt.grid()"
   ]
  },
  {
   "cell_type": "code",
   "execution_count": 66,
   "metadata": {},
   "outputs": [
    {
     "data": {
      "image/png": "[encoded data removed]",
      "text/plain": [
       "<Figure size 576x432 with 1 Axes>"
      ]
     },
     "metadata": {
      "needs_background": "light"
     },
     "output_type": "display_data"
    }
   ],
   "source": [
    "plt.figure(figsize=(8,6))\n",
    "plt.plot(resnet50_f1)\n",
    "plt.plot(resnet50_att_f1)\n",
    "plt.xlabel('Epoch')\n",
    "plt.ylabel('F1 Score')\n",
    "plt.title('resnet50 vs resnet50_attention with 6 epoch,learning rate = 0.0001')\n",
    "plt.legend(['resnet50 validation','resnet50_attention validation'],loc='best')\n",
    "plt.grid()"
   ]
  },
  {
   "cell_type": "markdown",
   "metadata": {
    "id": "5ZZ7Uvl9US6r"
   },
   "source": [
    "### 3.2 ResNet_Attention layer and BiLSTM_Attention layer concatenation"
   ]
  },
  {
   "cell_type": "code",
   "execution_count": 67,
   "metadata": {},
   "outputs": [],
   "source": [
    "class Resnext50_att_2(nn.Module):\n",
    "    def __init__(self):\n",
    "        super().__init__()\n",
    "        resnet = models.resnext50_32x4d(pretrained=True)\n",
    "        resnet.avgpool = nn.Sequential(\n",
    "            ChannelAtt(in_planes = 2048)\n",
    "        )\n",
    "        resnet.fc = nn.Sequential()\n",
    "\n",
    "        self.base_model = resnet\n",
    "\n",
    "        self.avgpool = nn.AdaptiveAvgPool2d((1, 1))\n",
    "\n",
    "\n",
    "    def forward(self, x):\n",
    "\n",
    "        x = self.base_model(x)\n",
    "\n",
    "        x = x.reshape(x.size(0), -1)\n",
    "\n",
    "        return x"
   ]
  },
  {
   "cell_type": "code",
   "execution_count": 68,
   "metadata": {},
   "outputs": [],
   "source": [
    "class BiLSTM_Attention_2(nn.Module):  \n",
    "    \n",
    "    def __init__(self,embedding_dim, hidden_dim, n_layers):\n",
    "        super(BiLSTM_Attention_2, self).__init__()\n",
    "        \n",
    "        self.base_model = Resnext50_att_2()\n",
    "        self.hidden_dim = hidden_dim\n",
    "        self.n_layers = n_layers       \n",
    "        self.rnn = nn.LSTM(embedding_dim, hidden_dim, num_layers=n_layers, batch_first =True,bidirectional=True, dropout=0.5)\n",
    "        self.fc = nn.Linear(hidden_dim * 2 + 2048, 20)\n",
    "        nn.init.kaiming_normal_(self.fc.weight)\n",
    "        self.dropout = nn.Dropout(0.5)\n",
    "        \n",
    "     #x,query：[batch, seq_len, hidden_dim*2]\n",
    "    def attention_net(self, x, query, mask=None):      #Soft attention mechanism（key=value=x）\n",
    "    \n",
    "        d_k = query.size(-1)                           #d_k is the dimension of query\n",
    "        scores = torch.matmul(query, x.transpose(1, 2)) / np.sqrt(d_k)  #Scoring mechanism  scores:[batch, seq_len, seq_len]\n",
    "        \n",
    "        p_attn = F.softmax(scores, dim = -1)           #Normalize the score for the last dimension\n",
    "        context = torch.matmul(p_attn, x).sum(1)       #Sum the weighted x，[batch, seq_len, hidden_dim*2]->[batch, hidden_dim*2]\n",
    "        return context, p_attn             \n",
    "    \n",
    "    def forward(self, imgs,x):     \n",
    "        res_feat = self.base_model(imgs)             \n",
    "        output, (final_hidden_state, final_cell_state) = self.rnn(x)  #[batch, seq_len, hidden_dim*2]\n",
    "        query = self.dropout(output)\n",
    "        attn_output, attention = self.attention_net(output, query) \n",
    "        \n",
    "        all_faet = torch.cat((attn_output,res_feat),1)    \n",
    "        logit = self.fc(all_faet)\n",
    "        \n",
    "        return logit"
   ]
  },
  {
   "cell_type": "code",
   "execution_count": 69,
   "metadata": {},
   "outputs": [],
   "source": [
    "biLSTM_Attention_2 = BiLSTM_Attention_2(768, hidden_dim=256, n_layers=2).cuda()\n",
    "learning_rate = 0.0001\n",
    "optimizer = optim.AdamW(biLSTM_Attention_2.parameters(), lr=learning_rate,betas=(0.8,0.999))\n",
    "criterion = nn.BCEWithLogitsLoss()"
   ]
  },
  {
   "cell_type": "code",
   "execution_count": 70,
   "metadata": {
    "scrolled": false
   },
   "outputs": [
    {
     "name": "stderr",
     "output_type": "stream",
     "text": [
      "100%|████████████████████████████████████████████████████████████████████████████████| 375/375 [04:07<00:00,  1.51it/s]\n",
      "100%|██████████████████████████████████████████████████████████████████████████████████| 94/94 [00:56<00:00,  1.67it/s]\n",
      "  0%|                                                                                          | 0/375 [00:00<?, ?it/s]"
     ]
    },
    {
     "name": "stdout",
     "output_type": "stream",
     "text": [
      "epoch: 0  train: loss:0.11106924 valid: loss:0.08511532  valid f1:0.816463\n"
     ]
    },
    {
     "name": "stderr",
     "output_type": "stream",
     "text": [
      "100%|████████████████████████████████████████████████████████████████████████████████| 375/375 [03:58<00:00,  1.57it/s]\n",
      "100%|██████████████████████████████████████████████████████████████████████████████████| 94/94 [00:58<00:00,  1.62it/s]\n",
      "  0%|                                                                                          | 0/375 [00:00<?, ?it/s]"
     ]
    },
    {
     "name": "stdout",
     "output_type": "stream",
     "text": [
      "epoch: 1  train: loss:0.07368415 valid: loss:0.08162322  valid f1:0.837156\n"
     ]
    },
    {
     "name": "stderr",
     "output_type": "stream",
     "text": [
      "100%|████████████████████████████████████████████████████████████████████████████████| 375/375 [03:56<00:00,  1.59it/s]\n",
      "100%|██████████████████████████████████████████████████████████████████████████████████| 94/94 [00:56<00:00,  1.67it/s]\n",
      "  0%|                                                                                          | 0/375 [00:00<?, ?it/s]"
     ]
    },
    {
     "name": "stdout",
     "output_type": "stream",
     "text": [
      "epoch: 2  train: loss:0.06504449 valid: loss:0.08058005  valid f1:0.846700\n"
     ]
    },
    {
     "name": "stderr",
     "output_type": "stream",
     "text": [
      "100%|████████████████████████████████████████████████████████████████████████████████| 375/375 [03:58<00:00,  1.58it/s]\n",
      "100%|██████████████████████████████████████████████████████████████████████████████████| 94/94 [00:54<00:00,  1.71it/s]\n",
      "  0%|                                                                                          | 0/375 [00:00<?, ?it/s]"
     ]
    },
    {
     "name": "stdout",
     "output_type": "stream",
     "text": [
      "epoch: 3  train: loss:0.05779821 valid: loss:0.08052479  valid f1:0.839040\n"
     ]
    },
    {
     "name": "stderr",
     "output_type": "stream",
     "text": [
      "100%|████████████████████████████████████████████████████████████████████████████████| 375/375 [03:55<00:00,  1.59it/s]\n",
      "100%|██████████████████████████████████████████████████████████████████████████████████| 94/94 [00:55<00:00,  1.69it/s]\n",
      "  0%|                                                                                          | 0/375 [00:00<?, ?it/s]"
     ]
    },
    {
     "name": "stdout",
     "output_type": "stream",
     "text": [
      "epoch: 4  train: loss:0.05042114 valid: loss:0.08535071  valid f1:0.843447\n"
     ]
    },
    {
     "name": "stderr",
     "output_type": "stream",
     "text": [
      "100%|████████████████████████████████████████████████████████████████████████████████| 375/375 [03:56<00:00,  1.59it/s]\n",
      "100%|██████████████████████████████████████████████████████████████████████████████████| 94/94 [00:56<00:00,  1.67it/s]"
     ]
    },
    {
     "name": "stdout",
     "output_type": "stream",
     "text": [
      "epoch: 5  train: loss:0.04397515 valid: loss:0.08654782  valid f1:0.845831\n"
     ]
    },
    {
     "name": "stderr",
     "output_type": "stream",
     "text": [
      "\n"
     ]
    }
   ],
   "source": [
    "epoch = 0\n",
    "max_epoch_number = 5\n",
    "iteration = 0\n",
    "test_freq = 1\n",
    "loss = 1000\n",
    "while True:\n",
    "    biLSTM_Attention_2.train()\n",
    "    batch_losses = []\n",
    "    for imgs, targets,_, bert_output in tqdm(train_loader_1):\n",
    "        imgs, targets= imgs.to(device), targets.to(device)\n",
    "        bert_output = bert_output.to(device)\n",
    "\n",
    "        optimizer.zero_grad()\n",
    "        model_result = biLSTM_Attention_2(imgs,bert_output)\n",
    "        loss = criterion(model_result, targets.type(torch.float))\n",
    "        batch_loss_value = loss.item()\n",
    "        loss.backward()\n",
    "        optimizer.step()\n",
    "        \n",
    "        batch_losses.append(batch_loss_value)\n",
    "\n",
    "    loss_value = np.mean(batch_losses)\n",
    "    if loss > loss_value:\n",
    "        loss = loss_value\n",
    "        torch.save(biLSTM_Attention_2.state_dict(),'biLSTM_Attention2.pth')\n",
    "\n",
    "    biLSTM_Attention.eval()\n",
    "    with torch.no_grad():\n",
    "        vaild_result = []\n",
    "        targets_list = []\n",
    "        val_losses = []\n",
    "        for imgs,targets,_,bert_output in tqdm(valid_loader_1):\n",
    "            bert_output = bert_output.to(device)\n",
    "            imgs, targets = imgs.to(device), targets.to(device)\n",
    "\n",
    "            valid_batch_result = biLSTM_Attention_2(imgs,bert_output)\n",
    "            vaild_result.extend(valid_batch_result.cpu().numpy())\n",
    "\n",
    "            loss = criterion(valid_batch_result, targets.type(torch.float))\n",
    "            targets_list.extend(targets.cpu().numpy())\n",
    "            batch_loss_value = loss.item()\n",
    "            val_losses.append(batch_loss_value)\n",
    "    valid_loss = np.mean(val_losses)\n",
    "    vaild_result = np.array(np.array(vaild_result) > 0, dtype=float)\n",
    "    f1 = f1_score(y_true=targets_list, y_pred=vaild_result, average='samples')\n",
    "    print(\"epoch:{:2d}  train: loss:{:.8f} valid: loss:{:.8f}  valid f1:{:3f}\".format(epoch,loss_value,valid_loss,f1))\n",
    "    epoch += 1\n",
    "    if max_epoch_number < epoch:\n",
    "        break"
   ]
  },
  {
   "cell_type": "code",
   "execution_count": 27,
   "metadata": {},
   "outputs": [],
   "source": [
    "biLSTM_Attention_2_F1 = [0.816463,0.837156,0.846700,0.839040,0.843447,0.845831]"
   ]
  },
  {
   "cell_type": "code",
   "execution_count": 87,
   "metadata": {},
   "outputs": [
    {
     "data": {
      "image/png": "[encoded data removed]",
      "text/plain": [
       "<Figure size 576x432 with 1 Axes>"
      ]
     },
     "metadata": {
      "needs_background": "light"
     },
     "output_type": "display_data"
    }
   ],
   "source": [
    "plt.figure(figsize=(8,6))\n",
    "plt.plot(biLSTM_Attention_2_F1)\n",
    "plt.plot(resnet50_att_f1)\n",
    "plt.xlabel('Epoch')\n",
    "plt.ylabel('F1 Score')\n",
    "plt.title('resnet50_attention VS resnet50_attention feature concat biLSTM_Attention feature with learning rate = 0.0001')\n",
    "plt.legend(['resnet50_attention','Feature concatenation'],loc='best')\n",
    "plt.grid()"
   ]
  },
  {
   "cell_type": "markdown",
   "metadata": {},
   "source": [
    "### 3.3 ResNet_Attention combine with BiLSTM_Attention"
   ]
  },
  {
   "cell_type": "code",
   "execution_count": 12,
   "metadata": {},
   "outputs": [],
   "source": [
    "class BiLSTM_Attention_3(nn.Module):  \n",
    "    \n",
    "    def __init__(self,embedding_dim, hidden_dim, n_layers):\n",
    "        super(BiLSTM_Attention_3, self).__init__()\n",
    "\n",
    "        self.hidden_dim = hidden_dim\n",
    "        self.n_layers = n_layers       \n",
    "        self.rnn = nn.LSTM(embedding_dim, hidden_dim, num_layers=n_layers, batch_first =True,bidirectional=True, dropout=0.3)\n",
    "        self.fc = nn.Linear(hidden_dim * 2, 20)  \n",
    "        nn.init.kaiming_normal_(self.fc.weight)\n",
    "        self.dropout = nn.Dropout(0.5)\n",
    "        \n",
    "     #x,query：[batch, seq_len, hidden_dim*2]\n",
    "    def attention_net(self, x, query, mask=None):     \n",
    "    \n",
    "        d_k = query.size(-1)                                           \n",
    "        scores = torch.matmul(query, x.transpose(1, 2)) / np.sqrt(d_k) \n",
    "        \n",
    "        p_attn = F.softmax(scores, dim = -1)                           \n",
    "        context = torch.matmul(p_attn, x).sum(1)       \n",
    "        return context, p_attn             \n",
    "       \n",
    "    def forward(self,x):     \n",
    "\n",
    "        output, (final_hidden_state, final_cell_state) = self.rnn(x)               \n",
    "        query = self.dropout(output)\n",
    "        attn_output, attention = self.attention_net(output, query)     \n",
    "        logit = self.fc(attn_output)\n",
    "        \n",
    "        return logit"
   ]
  },
  {
   "cell_type": "code",
   "execution_count": 16,
   "metadata": {},
   "outputs": [],
   "source": [
    "class Resnext50_att_3(nn.Module):\n",
    "    def __init__(self):\n",
    "        super().__init__()\n",
    "        resnet = models.resnext50_32x4d(pretrained=True)\n",
    "        resnet.avgpool = nn.Sequential(\n",
    "            ChannelAtt(in_planes = 2048)\n",
    "        )\n",
    "        resnet.fc = nn.Sequential(\n",
    "            nn.Dropout(p=0.5),\n",
    "            nn.Linear(in_features=resnet.fc.in_features, out_features=20)\n",
    "        )\n",
    "\n",
    "        self.base_model = resnet\n",
    "\n",
    "    def forward(self, x):\n",
    "\n",
    "        x = self.base_model(x)\n",
    "\n",
    "        return x"
   ]
  },
  {
   "cell_type": "code",
   "execution_count": 17,
   "metadata": {},
   "outputs": [],
   "source": [
    "lstm_bert = BiLSTM_Attention_3(768, hidden_dim=128, n_layers=2).cuda()\n",
    "resnet_50 = Resnext50_att_3().cuda()"
   ]
  },
  {
   "cell_type": "code",
   "execution_count": 18,
   "metadata": {},
   "outputs": [],
   "source": [
    "learning_rate = 0.0001\n",
    "optimizer_L = optim.AdamW(lstm_bert.parameters(), lr=learning_rate,betas=(0.8,0.999))\n",
    "optimizer_R = optim.AdamW(resnet_50.parameters(), lr=learning_rate,betas=(0.8,0.999))\n",
    "criterion_L = nn.BCEWithLogitsLoss()\n",
    "criterion_R = nn.BCEWithLogitsLoss()"
   ]
  },
  {
   "cell_type": "code",
   "execution_count": 25,
   "metadata": {
    "scrolled": true
   },
   "outputs": [
    {
     "name": "stderr",
     "output_type": "stream",
     "text": [
      "100%|████████████████████████████████████████████████████████████████████████████████| 375/375 [03:22<00:00,  1.85it/s]\n",
      "100%|██████████████████████████████████████████████████████████████████████████████████| 94/94 [00:46<00:00,  2.03it/s]\n",
      "  0%|                                                                                          | 0/375 [00:00<?, ?it/s]"
     ]
    },
    {
     "name": "stdout",
     "output_type": "stream",
     "text": [
      "epoch: 0  lstm_train: loss:0.08812875 resnet_train: loss:0.06598204  valid f1:0.838559\n"
     ]
    },
    {
     "name": "stderr",
     "output_type": "stream",
     "text": [
      "100%|████████████████████████████████████████████████████████████████████████████████| 375/375 [03:22<00:00,  1.85it/s]\n",
      "100%|██████████████████████████████████████████████████████████████████████████████████| 94/94 [00:46<00:00,  2.04it/s]\n",
      "  0%|                                                                                          | 0/375 [00:00<?, ?it/s]"
     ]
    },
    {
     "name": "stdout",
     "output_type": "stream",
     "text": [
      "epoch: 1  lstm_train: loss:0.08549907 resnet_train: loss:0.05995794  valid f1:0.840356\n"
     ]
    },
    {
     "name": "stderr",
     "output_type": "stream",
     "text": [
      "100%|████████████████████████████████████████████████████████████████████████████████| 375/375 [03:23<00:00,  1.84it/s]\n",
      "100%|██████████████████████████████████████████████████████████████████████████████████| 94/94 [00:46<00:00,  2.04it/s]\n",
      "  0%|                                                                                          | 0/375 [00:00<?, ?it/s]"
     ]
    },
    {
     "name": "stdout",
     "output_type": "stream",
     "text": [
      "epoch: 2  lstm_train: loss:0.08329943 resnet_train: loss:0.05352304  valid f1:0.846381\n"
     ]
    },
    {
     "name": "stderr",
     "output_type": "stream",
     "text": [
      "100%|████████████████████████████████████████████████████████████████████████████████| 375/375 [03:23<00:00,  1.84it/s]\n",
      "100%|██████████████████████████████████████████████████████████████████████████████████| 94/94 [00:46<00:00,  2.01it/s]\n",
      "  0%|                                                                                          | 0/375 [00:00<?, ?it/s]"
     ]
    },
    {
     "name": "stdout",
     "output_type": "stream",
     "text": [
      "epoch: 3  lstm_train: loss:0.08157548 resnet_train: loss:0.04728140  valid f1:0.842950\n"
     ]
    },
    {
     "name": "stderr",
     "output_type": "stream",
     "text": [
      "100%|████████████████████████████████████████████████████████████████████████████████| 375/375 [03:25<00:00,  1.83it/s]\n",
      "100%|██████████████████████████████████████████████████████████████████████████████████| 94/94 [00:46<00:00,  2.02it/s]\n",
      "  0%|                                                                                          | 0/375 [00:00<?, ?it/s]"
     ]
    },
    {
     "name": "stdout",
     "output_type": "stream",
     "text": [
      "epoch: 4  lstm_train: loss:0.07967075 resnet_train: loss:0.04197129  valid f1:0.849292\n"
     ]
    },
    {
     "name": "stderr",
     "output_type": "stream",
     "text": [
      "100%|████████████████████████████████████████████████████████████████████████████████| 375/375 [03:25<00:00,  1.82it/s]\n",
      "100%|██████████████████████████████████████████████████████████████████████████████████| 94/94 [00:46<00:00,  2.00it/s]"
     ]
    },
    {
     "name": "stdout",
     "output_type": "stream",
     "text": [
      "epoch: 5  lstm_train: loss:0.07821699 resnet_train: loss:0.03764281  valid f1:0.851828\n"
     ]
    },
    {
     "name": "stderr",
     "output_type": "stream",
     "text": [
      "\n"
     ]
    }
   ],
   "source": [
    "epoch = 0\n",
    "max_epoch_number = 5\n",
    "\n",
    "loss0 = 1000\n",
    "loss1 = 1000\n",
    "\n",
    "f1_list = []\n",
    "while True:\n",
    "    lstm_bert.train()\n",
    "    resnet_50.train()\n",
    "    lstm_losses = []\n",
    "    resnet_losses = []\n",
    "    for imgs, targets,_, bert_output in tqdm(train_loader_1):\n",
    "        imgs, targets= imgs.to(device), targets.to(device)\n",
    "        bert_output = bert_output.to(device)\n",
    "\n",
    "        optimizer_L.zero_grad()\n",
    "        lstm_result = lstm_bert(bert_output)\n",
    "        loss = criterion_L(lstm_result, targets.type(torch.float))\n",
    "        batch_loss_lstm = loss.item()\n",
    "        loss.backward()\n",
    "        optimizer_L.step()\n",
    "        lstm_losses.append(batch_loss_lstm)\n",
    "\n",
    "        optimizer_R.zero_grad()\n",
    "        resnet_result = resnet_50(imgs)\n",
    "        loss = criterion_L(resnet_result, targets.type(torch.float))\n",
    "        batch_loss_resnet = loss.item()\n",
    "        loss.backward()\n",
    "        optimizer_R.step()\n",
    "        resnet_losses.append(batch_loss_resnet)\n",
    "\n",
    "    loss_lstm= np.mean(lstm_losses)\n",
    "    loss_resnet= np.mean(resnet_losses)\n",
    "    if loss0 > loss_lstm:\n",
    "        loss0 = loss_lstm\n",
    "        torch.save(lstm_bert.state_dict(),'lstm_at.pth')\n",
    "\n",
    "    if loss1 > loss_resnet:\n",
    "        loss1 = loss_resnet\n",
    "        torch.save(resnet_50.state_dict(),'resnet_50.pth')\n",
    "\n",
    "    resnet_50.eval()\n",
    "    lstm_bert.eval() \n",
    "    with torch.no_grad():\n",
    "        vaild_result = []\n",
    "        targets_list = []\n",
    "        val_losses = []\n",
    "        for imgs,targets,_,bert_output in tqdm(valid_loader_1):\n",
    "            bert_output = bert_output.to(device)\n",
    "            imgs, targets = imgs.to(device), targets.to(device)\n",
    "\n",
    "            valid_lstm_result = lstm_bert(bert_output)\n",
    "            valid_resnet_result = resnet_50(imgs)\n",
    "            result = (valid_lstm_result + valid_resnet_result) / 2\n",
    "            vaild_result.extend(result.cpu().numpy())\n",
    "            targets_list.extend(targets.cpu().numpy())\n",
    "\n",
    "    vaild_result = np.array(np.array(vaild_result) > 0, dtype=float)\n",
    "\n",
    "    f1 = f1_score(y_true=targets_list, y_pred=vaild_result, average='samples')\n",
    "    f1_list.append(f1)\n",
    "    print(\"epoch:{:2d}  lstm_train: loss:{:.8f} resnet_train: loss:{:.8f}  valid f1:{:3f}\".format(epoch,loss_lstm,loss_resnet,f1))\n",
    "    epoch += 1\n",
    "    if max_epoch_number < epoch:\n",
    "        break\n"
   ]
  },
  {
   "cell_type": "code",
   "execution_count": 30,
   "metadata": {
    "scrolled": false
   },
   "outputs": [
    {
     "data": {
      "image/png": "[encoded data removed]",
      "text/plain": [
       "<Figure size 576x432 with 1 Axes>"
      ]
     },
     "metadata": {
      "needs_background": "light"
     },
     "output_type": "display_data"
    }
   ],
   "source": [
    "plt.figure(figsize=(8,6))\n",
    "plt.plot(f1_list)\n",
    "plt.plot(biLSTM_Attention_2_F1)\n",
    "plt.xlabel('Epoch')\n",
    "plt.ylabel('F1 Score')\n",
    "plt.title('Sum output VS Feature concatenation with learning rate = 0.0001')\n",
    "plt.legend(['Sum output','Feature concatenation'],loc='best')\n",
    "plt.grid()"
   ]
  },
  {
   "cell_type": "markdown",
   "metadata": {},
   "source": [
    "## Section4. BestModel finetune"
   ]
  },
  {
   "cell_type": "code",
   "execution_count": 38,
   "metadata": {},
   "outputs": [],
   "source": [
    "def train_re_ls(lstm_bert,resnet_50,epoch = 5,learning_rate = 0.0001):\n",
    "    \n",
    "    learning_rate = learning_rate\n",
    "    optimizer_L = optim.AdamW(lstm_bert.parameters(), lr=learning_rate,betas=(0.8,0.999))\n",
    "    optimizer_R = optim.AdamW(resnet_50.parameters(), lr=learning_rate,betas=(0.8,0.999))\n",
    "    criterion_L = nn.BCEWithLogitsLoss()\n",
    "    criterion_R = nn.BCEWithLogitsLoss()\n",
    "\n",
    "    max_epoch_number = epoch\n",
    "\n",
    "    loss0 = 1000\n",
    "    loss1 = 1000\n",
    "\n",
    "    f1_list = []\n",
    "    for i in range(max_epoch_number):\n",
    "        lstm_bert.train()\n",
    "        resnet_50.train()\n",
    "        lstm_losses = []\n",
    "        resnet_losses = []\n",
    "        for imgs, targets,_, bert_output in tqdm(train_loader_1):\n",
    "            imgs, targets= imgs.to(device), targets.to(device)\n",
    "            bert_output = bert_output.to(device)\n",
    "\n",
    "            optimizer_L.zero_grad()\n",
    "            lstm_result = lstm_bert(bert_output)\n",
    "            loss = criterion_L(lstm_result, targets.type(torch.float))\n",
    "            batch_loss_lstm = loss.item()\n",
    "            loss.backward()\n",
    "            optimizer_L.step()\n",
    "            lstm_losses.append(batch_loss_lstm)\n",
    "\n",
    "            optimizer_R.zero_grad()\n",
    "            resnet_result = resnet_50(imgs)\n",
    "            loss = criterion_L(resnet_result, targets.type(torch.float))\n",
    "            batch_loss_resnet = loss.item()\n",
    "            loss.backward()\n",
    "            optimizer_R.step()\n",
    "            resnet_losses.append(batch_loss_resnet)\n",
    "\n",
    "        loss_lstm= np.mean(lstm_losses)\n",
    "        loss_resnet= np.mean(resnet_losses)\n",
    "        if loss0 > loss_lstm:\n",
    "            loss0 = loss_lstm\n",
    "            torch.save(lstm_bert.state_dict(),'lstm_at.pth')\n",
    "\n",
    "        if loss1 > loss_resnet:\n",
    "            loss1 = loss_resnet\n",
    "            torch.save(resnet_50.state_dict(),'resnet_50.pth')\n",
    "\n",
    "        resnet_50.eval()\n",
    "        lstm_bert.eval() \n",
    "        with torch.no_grad():\n",
    "            vaild_result = []\n",
    "            targets_list = []\n",
    "            val_losses = []\n",
    "            for imgs,targets,_,bert_output in tqdm(valid_loader_1):\n",
    "                bert_output = bert_output.to(device)\n",
    "                imgs, targets = imgs.to(device), targets.to(device)\n",
    "\n",
    "                valid_lstm_result = lstm_bert(bert_output)\n",
    "                valid_resnet_result = resnet_50(imgs)\n",
    "                result = (valid_lstm_result + valid_resnet_result) / 2\n",
    "                vaild_result.extend(result.cpu().numpy())\n",
    "                targets_list.extend(targets.cpu().numpy())\n",
    "\n",
    "        vaild_result = np.array(np.array(vaild_result) > 0, dtype=float)\n",
    "\n",
    "        f1 = f1_score(y_true=targets_list, y_pred=vaild_result, average='samples')\n",
    "        f1_list.append(f1)\n",
    "        print(\"epoch:{:2d}  lstm_train: loss:{:.8f} resnet_train: loss:{:.8f}  valid f1:{:3f}\".format(i+1,loss_lstm,loss_resnet,f1))\n",
    "\n",
    "    return f1_list"
   ]
  },
  {
   "cell_type": "code",
   "execution_count": 39,
   "metadata": {},
   "outputs": [
    {
     "name": "stderr",
     "output_type": "stream",
     "text": [
      "100%|████████████████████████████████████████████████████████████████████████████████| 375/375 [03:37<00:00,  1.72it/s]\n",
      "100%|██████████████████████████████████████████████████████████████████████████████████| 94/94 [00:46<00:00,  2.02it/s]\n",
      "  0%|                                                                                          | 0/375 [00:00<?, ?it/s]"
     ]
    },
    {
     "name": "stdout",
     "output_type": "stream",
     "text": [
      "epoch: 1  lstm_train: loss:0.23655070 resnet_train: loss:0.14244659  valid f1:0.770241\n"
     ]
    },
    {
     "name": "stderr",
     "output_type": "stream",
     "text": [
      "100%|████████████████████████████████████████████████████████████████████████████████| 375/375 [03:29<00:00,  1.79it/s]\n",
      "100%|██████████████████████████████████████████████████████████████████████████████████| 94/94 [00:47<00:00,  1.99it/s]\n",
      "  0%|                                                                                          | 0/375 [00:00<?, ?it/s]"
     ]
    },
    {
     "name": "stdout",
     "output_type": "stream",
     "text": [
      "epoch: 2  lstm_train: loss:0.11742349 resnet_train: loss:0.09058476  valid f1:0.802221\n"
     ]
    },
    {
     "name": "stderr",
     "output_type": "stream",
     "text": [
      "100%|████████████████████████████████████████████████████████████████████████████████| 375/375 [03:23<00:00,  1.84it/s]\n",
      "100%|██████████████████████████████████████████████████████████████████████████████████| 94/94 [00:46<00:00,  2.01it/s]\n",
      "  0%|                                                                                          | 0/375 [00:00<?, ?it/s]"
     ]
    },
    {
     "name": "stdout",
     "output_type": "stream",
     "text": [
      "epoch: 3  lstm_train: loss:0.10467958 resnet_train: loss:0.08035785  valid f1:0.825147\n"
     ]
    },
    {
     "name": "stderr",
     "output_type": "stream",
     "text": [
      "100%|████████████████████████████████████████████████████████████████████████████████| 375/375 [03:30<00:00,  1.78it/s]\n",
      "100%|██████████████████████████████████████████████████████████████████████████████████| 94/94 [00:46<00:00,  2.00it/s]\n",
      "  0%|                                                                                          | 0/375 [00:00<?, ?it/s]"
     ]
    },
    {
     "name": "stdout",
     "output_type": "stream",
     "text": [
      "epoch: 4  lstm_train: loss:0.09832034 resnet_train: loss:0.07292645  valid f1:0.831591\n"
     ]
    },
    {
     "name": "stderr",
     "output_type": "stream",
     "text": [
      "100%|████████████████████████████████████████████████████████████████████████████████| 375/375 [03:28<00:00,  1.80it/s]\n",
      "100%|██████████████████████████████████████████████████████████████████████████████████| 94/94 [00:46<00:00,  2.01it/s]"
     ]
    },
    {
     "name": "stdout",
     "output_type": "stream",
     "text": [
      "epoch: 5  lstm_train: loss:0.09403775 resnet_train: loss:0.06602372  valid f1:0.829204\n"
     ]
    },
    {
     "name": "stderr",
     "output_type": "stream",
     "text": [
      "\n"
     ]
    }
   ],
   "source": [
    "lstm_bert = BiLSTM_Attention_3(768, hidden_dim=64, n_layers=2).cuda()\n",
    "resnet_50 = Resnext50_att_3().cuda()\n",
    "f1_64_2 = train_re_ls(lstm_bert,resnet_50,epoch = 5,learning_rate = 0.0001)"
   ]
  },
  {
   "cell_type": "code",
   "execution_count": 41,
   "metadata": {},
   "outputs": [
    {
     "name": "stderr",
     "output_type": "stream",
     "text": [
      "100%|████████████████████████████████████████████████████████████████████████████████| 375/375 [03:27<00:00,  1.80it/s]\n",
      "100%|██████████████████████████████████████████████████████████████████████████████████| 94/94 [00:46<00:00,  2.01it/s]\n",
      "  0%|                                                                                          | 0/375 [00:00<?, ?it/s]"
     ]
    },
    {
     "name": "stdout",
     "output_type": "stream",
     "text": [
      "epoch: 1  lstm_train: loss:0.19654170 resnet_train: loss:0.14025595  valid f1:0.777538\n"
     ]
    },
    {
     "name": "stderr",
     "output_type": "stream",
     "text": [
      "100%|████████████████████████████████████████████████████████████████████████████████| 375/375 [03:27<00:00,  1.81it/s]\n",
      "100%|██████████████████████████████████████████████████████████████████████████████████| 94/94 [00:46<00:00,  2.02it/s]\n",
      "  0%|                                                                                          | 0/375 [00:00<?, ?it/s]"
     ]
    },
    {
     "name": "stdout",
     "output_type": "stream",
     "text": [
      "epoch: 2  lstm_train: loss:0.10717124 resnet_train: loss:0.08986323  valid f1:0.815095\n"
     ]
    },
    {
     "name": "stderr",
     "output_type": "stream",
     "text": [
      "100%|████████████████████████████████████████████████████████████████████████████████| 375/375 [03:27<00:00,  1.81it/s]\n",
      "100%|██████████████████████████████████████████████████████████████████████████████████| 94/94 [00:46<00:00,  2.02it/s]\n",
      "  0%|                                                                                          | 0/375 [00:00<?, ?it/s]"
     ]
    },
    {
     "name": "stdout",
     "output_type": "stream",
     "text": [
      "epoch: 3  lstm_train: loss:0.09809226 resnet_train: loss:0.08005748  valid f1:0.828286\n"
     ]
    },
    {
     "name": "stderr",
     "output_type": "stream",
     "text": [
      "100%|████████████████████████████████████████████████████████████████████████████████| 375/375 [03:26<00:00,  1.82it/s]\n",
      "100%|██████████████████████████████████████████████████████████████████████████████████| 94/94 [00:46<00:00,  2.03it/s]\n",
      "  0%|                                                                                          | 0/375 [00:00<?, ?it/s]"
     ]
    },
    {
     "name": "stdout",
     "output_type": "stream",
     "text": [
      "epoch: 4  lstm_train: loss:0.09309535 resnet_train: loss:0.07219197  valid f1:0.842922\n"
     ]
    },
    {
     "name": "stderr",
     "output_type": "stream",
     "text": [
      "100%|████████████████████████████████████████████████████████████████████████████████| 375/375 [03:26<00:00,  1.82it/s]\n",
      "100%|██████████████████████████████████████████████████████████████████████████████████| 94/94 [00:46<00:00,  2.03it/s]"
     ]
    },
    {
     "name": "stdout",
     "output_type": "stream",
     "text": [
      "epoch: 5  lstm_train: loss:0.08981503 resnet_train: loss:0.06572720  valid f1:0.847159\n"
     ]
    },
    {
     "name": "stderr",
     "output_type": "stream",
     "text": [
      "\n"
     ]
    }
   ],
   "source": [
    "lstm_bert = BiLSTM_Attention_3(768, hidden_dim= 64, n_layers=4).cuda()\n",
    "resnet_50 = Resnext50_att_3().cuda()\n",
    "f1_64_4 = train_re_ls(lstm_bert,resnet_50,epoch = 5,learning_rate = 0.0001)"
   ]
  },
  {
   "cell_type": "code",
   "execution_count": 42,
   "metadata": {},
   "outputs": [
    {
     "data": {
      "image/png": "[encoded data removed]",
      "text/plain": [
       "<Figure size 576x432 with 1 Axes>"
      ]
     },
     "metadata": {
      "needs_background": "light"
     },
     "output_type": "display_data"
    }
   ],
   "source": [
    "plt.figure(figsize=(8,6))\n",
    "plt.plot(f1_list)\n",
    "plt.plot(f1_64_2)\n",
    "plt.xlabel('Epoch')\n",
    "plt.ylabel('F1 Score')\n",
    "plt.title('Sum output with different num of  hidden_dim')\n",
    "plt.legend(['hidden_dim=128','hidden_dim=64'],loc='best')\n",
    "plt.grid()"
   ]
  },
  {
   "cell_type": "code",
   "execution_count": 43,
   "metadata": {},
   "outputs": [
    {
     "data": {
      "image/png": "[encoded data removed]",
      "text/plain": [
       "<Figure size 576x432 with 1 Axes>"
      ]
     },
     "metadata": {
      "needs_background": "light"
     },
     "output_type": "display_data"
    }
   ],
   "source": [
    "plt.figure(figsize=(8,6))\n",
    "plt.plot(f1_64_4)\n",
    "plt.plot(f1_64_2)\n",
    "plt.xlabel('Epoch')\n",
    "plt.ylabel('F1 Score')\n",
    "plt.title('Sum output with different num of hidden layers')\n",
    "plt.legend(['n_layers=4','n_layers=2'],loc='best')\n",
    "plt.grid()"
   ]
  },
  {
   "cell_type": "markdown",
   "metadata": {},
   "source": [
    "## Section5 Train BestModel by Cross-validation and output"
   ]
  },
  {
   "cell_type": "markdown",
   "metadata": {},
   "source": [
    "- Finally, we choose 128 nodes and 2 hidden layers in training model to avoid the total size of model over than 100M, which is the best model structure we have. There are a total of 24865128 parameters in our model, which is approximately equal to 94.8M. It should be noted that the highest F1-score obtained by our model during training is 0.91, but the result on Kaggle is only 0.879."
   ]
  },
  {
   "cell_type": "code",
   "execution_count": 44,
   "metadata": {},
   "outputs": [],
   "source": [
    "class BiLSTM_Attention_3(nn.Module):  \n",
    "    \n",
    "    def __init__(self,embedding_dim, hidden_dim, n_layers):\n",
    "        super(BiLSTM_Attention_3, self).__init__()\n",
    "\n",
    "        self.hidden_dim = hidden_dim\n",
    "        self.n_layers = n_layers       \n",
    "        self.rnn = nn.LSTM(embedding_dim, hidden_dim, num_layers=n_layers, batch_first =True,bidirectional=True, dropout=0.3)\n",
    "        self.fc = nn.Linear(hidden_dim * 2, 20)  \n",
    "        nn.init.kaiming_normal_(self.fc.weight)\n",
    "        self.dropout = nn.Dropout(0.5)\n",
    "        \n",
    "     #x,query：[batch, seq_len, hidden_dim*2]\n",
    "    def attention_net(self, x, query, mask=None):      #Soft attention mechanism（key=value=x）\n",
    "    \n",
    "        d_k = query.size(-1)                           #d_k is the dimension of query\n",
    "        scores = torch.matmul(query, x.transpose(1, 2)) / np.sqrt(d_k)  #Scoring mechanism  scores:[batch, seq_len, seq_len]\n",
    "        \n",
    "        p_attn = F.softmax(scores, dim = -1)           #Normalize the score for the last dimension\n",
    "        context = torch.matmul(p_attn, x).sum(1)       #Sum the weighted x，[batch, seq_len, hidden_dim*2]->[batch, hidden_dim*2]\n",
    "        return context, p_attn             \n",
    "       \n",
    "    def forward(self,x):     \n",
    "\n",
    "        output, (final_hidden_state, final_cell_state) = self.rnn(x)               \n",
    "        query = self.dropout(output)\n",
    "        attn_output, attention = self.attention_net(output, query)     \n",
    "        logit = self.fc(attn_output)\n",
    "        \n",
    "        return logit"
   ]
  },
  {
   "cell_type": "code",
   "execution_count": 45,
   "metadata": {},
   "outputs": [],
   "source": [
    "class ChannelAtt(nn.Module):\n",
    "    #Define the Attention layer class\n",
    "    \n",
    "    def __init__(self, in_planes, ratio=16):\n",
    "        super(ChannelAtt, self).__init__()\n",
    "        self.avg_pool = nn.AdaptiveAvgPool2d(1)\n",
    "        self.max_pool = nn.AdaptiveMaxPool2d(1)\n",
    "        self.fc1   = nn.Conv2d(in_planes, in_planes // 16, 1, bias=False)\n",
    "        self.relu1 = nn.ReLU()\n",
    "        self.fc2   = nn.Conv2d(in_planes // 16, in_planes, 1, bias=False)\n",
    "        self.sigmoid = nn.Sigmoid()\n",
    "\n",
    "    def forward(self, x):\n",
    "        inp = x\n",
    "        avg_out = self.fc2(self.relu1(self.fc1(self.avg_pool(x))))\n",
    "        max_out = self.fc2(self.relu1(self.fc1(self.max_pool(x))))\n",
    "        out = avg_out + max_out\n",
    "        output = inp * (self.sigmoid(out))\n",
    "        output = self.avg_pool(output)\n",
    "        \n",
    "        return output"
   ]
  },
  {
   "cell_type": "code",
   "execution_count": 46,
   "metadata": {},
   "outputs": [],
   "source": [
    "class Resnext50_att_3(nn.Module):\n",
    "    #Define Resnet50, change the avgpool layer to attention layer, \n",
    "    # and output 20 features from the fully connected layer\n",
    "    \n",
    "    def __init__(self):\n",
    "        super().__init__()\n",
    "        resnet = models.resnext50_32x4d(pretrained=True)\n",
    "        resnet.avgpool = nn.Sequential(\n",
    "            ChannelAtt(in_planes = 2048)\n",
    "        )\n",
    "        resnet.fc = nn.Sequential(\n",
    "            nn.Dropout(p=0.5),\n",
    "            nn.Linear(in_features=resnet.fc.in_features, out_features=20)\n",
    "        )\n",
    "\n",
    "        self.base_model = resnet\n",
    "\n",
    "    def forward(self, x):\n",
    "\n",
    "        x = self.base_model(x)\n",
    "\n",
    "        return x"
   ]
  },
  {
   "cell_type": "code",
   "execution_count": 47,
   "metadata": {},
   "outputs": [],
   "source": [
    "lstm_bert = BiLSTM_Attention_3(768, hidden_dim=128, n_layers=2).cuda()\n",
    "resnet_50 = Resnext50_att_3().cuda()"
   ]
  },
  {
   "cell_type": "code",
   "execution_count": 50,
   "metadata": {},
   "outputs": [
    {
     "name": "stdout",
     "output_type": "stream",
     "text": [
      "The total parameter of the model is 24865128, about 94.8M\n"
     ]
    }
   ],
   "source": [
    "num_lstm = sum(p.numel() for p in lstm_bert.parameters())\n",
    "num_resnet_50 = sum(p.numel() for p in resnet_50.parameters())\n",
    "total = num_lstm + num_resnet_50\n",
    "print('The total parameter of the model is {}, about 94.8M'.format(total))"
   ]
  },
  {
   "cell_type": "code",
   "execution_count": null,
   "metadata": {},
   "outputs": [],
   "source": [
    "learning_rate = 0.0001\n",
    "optimizer_L = optim.AdamW(lstm_bert.parameters(), lr=learning_rate,betas=(0.8,0.999))\n",
    "optimizer_R = optim.AdamW(resnet_50.parameters(), lr=learning_rate,betas=(0.8,0.999))\n",
    "criterion_L = nn.BCEWithLogitsLoss()\n",
    "criterion_R = nn.BCEWithLogitsLoss()"
   ]
  },
  {
   "cell_type": "code",
   "execution_count": 47,
   "metadata": {
    "scrolled": true
   },
   "outputs": [
    {
     "name": "stderr",
     "output_type": "stream",
     "text": [
      "100%|████████████████████████████████████████████████████████████████████████████████| 375/375 [02:49<00:00,  2.21it/s]\n",
      "100%|██████████████████████████████████████████████████████████████████████████████████| 94/94 [00:39<00:00,  2.38it/s]\n",
      "  0%|                                                                                          | 0/375 [00:00<?, ?it/s]"
     ]
    },
    {
     "name": "stdout",
     "output_type": "stream",
     "text": [
      "epoch: 1  lstm_train: loss:0.06830091 resnet_train: loss:0.07834734  valid f1:0.883744\n"
     ]
    },
    {
     "name": "stderr",
     "output_type": "stream",
     "text": [
      "100%|████████████████████████████████████████████████████████████████████████████████| 375/375 [02:50<00:00,  2.21it/s]\n",
      "100%|██████████████████████████████████████████████████████████████████████████████████| 94/94 [00:40<00:00,  2.34it/s]\n",
      "  0%|                                                                                          | 0/375 [00:00<?, ?it/s]"
     ]
    },
    {
     "name": "stdout",
     "output_type": "stream",
     "text": [
      "epoch: 1  lstm_train: loss:0.06577180 resnet_train: loss:0.07602072  valid f1:0.886421\n"
     ]
    },
    {
     "name": "stderr",
     "output_type": "stream",
     "text": [
      "100%|████████████████████████████████████████████████████████████████████████████████| 375/375 [02:50<00:00,  2.19it/s]\n",
      "100%|██████████████████████████████████████████████████████████████████████████████████| 94/94 [00:39<00:00,  2.38it/s]\n",
      "  0%|                                                                                          | 0/375 [00:00<?, ?it/s]"
     ]
    },
    {
     "name": "stdout",
     "output_type": "stream",
     "text": [
      "epoch: 2  lstm_train: loss:0.06388053 resnet_train: loss:0.07399175  valid f1:0.888221\n"
     ]
    },
    {
     "name": "stderr",
     "output_type": "stream",
     "text": [
      "100%|████████████████████████████████████████████████████████████████████████████████| 375/375 [02:51<00:00,  2.19it/s]\n",
      "100%|██████████████████████████████████████████████████████████████████████████████████| 94/94 [00:39<00:00,  2.37it/s]\n",
      "  0%|                                                                                          | 0/375 [00:00<?, ?it/s]"
     ]
    },
    {
     "name": "stdout",
     "output_type": "stream",
     "text": [
      "epoch: 2  lstm_train: loss:0.06111810 resnet_train: loss:0.07125469  valid f1:0.889637\n"
     ]
    },
    {
     "name": "stderr",
     "output_type": "stream",
     "text": [
      "100%|████████████████████████████████████████████████████████████████████████████████| 375/375 [02:50<00:00,  2.20it/s]\n",
      "100%|██████████████████████████████████████████████████████████████████████████████████| 94/94 [00:39<00:00,  2.37it/s]\n",
      "  0%|                                                                                          | 0/375 [00:00<?, ?it/s]"
     ]
    },
    {
     "name": "stdout",
     "output_type": "stream",
     "text": [
      "epoch: 3  lstm_train: loss:0.05900887 resnet_train: loss:0.06934282  valid f1:0.892617\n"
     ]
    },
    {
     "name": "stderr",
     "output_type": "stream",
     "text": [
      "100%|████████████████████████████████████████████████████████████████████████████████| 375/375 [02:51<00:00,  2.19it/s]\n",
      "100%|██████████████████████████████████████████████████████████████████████████████████| 94/94 [00:40<00:00,  2.35it/s]\n",
      "  0%|                                                                                          | 0/375 [00:00<?, ?it/s]"
     ]
    },
    {
     "name": "stdout",
     "output_type": "stream",
     "text": [
      "epoch: 3  lstm_train: loss:0.05593931 resnet_train: loss:0.06761635  valid f1:0.896062\n"
     ]
    },
    {
     "name": "stderr",
     "output_type": "stream",
     "text": [
      "100%|████████████████████████████████████████████████████████████████████████████████| 375/375 [02:52<00:00,  2.18it/s]\n",
      "100%|██████████████████████████████████████████████████████████████████████████████████| 94/94 [00:40<00:00,  2.35it/s]\n",
      "  0%|                                                                                          | 0/375 [00:00<?, ?it/s]"
     ]
    },
    {
     "name": "stdout",
     "output_type": "stream",
     "text": [
      "epoch: 4  lstm_train: loss:0.05408040 resnet_train: loss:0.06559736  valid f1:0.901650\n"
     ]
    },
    {
     "name": "stderr",
     "output_type": "stream",
     "text": [
      "100%|████████████████████████████████████████████████████████████████████████████████| 375/375 [02:51<00:00,  2.19it/s]\n",
      "100%|██████████████████████████████████████████████████████████████████████████████████| 94/94 [00:39<00:00,  2.38it/s]\n",
      "  0%|                                                                                          | 0/375 [00:00<?, ?it/s]"
     ]
    },
    {
     "name": "stdout",
     "output_type": "stream",
     "text": [
      "epoch: 4  lstm_train: loss:0.05088188 resnet_train: loss:0.06367471  valid f1:0.905839\n"
     ]
    },
    {
     "name": "stderr",
     "output_type": "stream",
     "text": [
      "100%|████████████████████████████████████████████████████████████████████████████████| 375/375 [02:51<00:00,  2.19it/s]\n",
      "100%|██████████████████████████████████████████████████████████████████████████████████| 94/94 [00:39<00:00,  2.37it/s]\n",
      "  0%|                                                                                          | 0/375 [00:00<?, ?it/s]"
     ]
    },
    {
     "name": "stdout",
     "output_type": "stream",
     "text": [
      "epoch: 5  lstm_train: loss:0.04916294 resnet_train: loss:0.06187785  valid f1:0.912777\n"
     ]
    },
    {
     "name": "stderr",
     "output_type": "stream",
     "text": [
      "100%|████████████████████████████████████████████████████████████████████████████████| 375/375 [02:51<00:00,  2.19it/s]\n",
      "100%|██████████████████████████████████████████████████████████████████████████████████| 94/94 [00:39<00:00,  2.37it/s]"
     ]
    },
    {
     "name": "stdout",
     "output_type": "stream",
     "text": [
      "epoch: 5  lstm_train: loss:0.04535325 resnet_train: loss:0.06005000  valid f1:0.915137\n"
     ]
    },
    {
     "name": "stderr",
     "output_type": "stream",
     "text": [
      "\n"
     ]
    }
   ],
   "source": [
    "epoch = 0\n",
    "max_epoch_number = 5\n",
    "\n",
    "loss0 = 1000\n",
    "loss1 = 1000\n",
    "while True:\n",
    "    lstm_bert.train()\n",
    "    resnet_50.train()\n",
    "    lstm_losses = []\n",
    "    resnet_losses = []\n",
    "    for imgs, targets,_, bert_output in tqdm(train_loader_1):\n",
    "        imgs, targets= imgs.to(device), targets.to(device)\n",
    "        bert_output = bert_output.to(device)\n",
    "\n",
    "        optimizer_L.zero_grad()\n",
    "        lstm_result = lstm_bert(bert_output)\n",
    "        loss = criterion_L(lstm_result, targets.type(torch.float))\n",
    "        batch_loss_lstm = loss.item()\n",
    "        loss.backward()\n",
    "        optimizer_L.step()\n",
    "        lstm_losses.append(batch_loss_lstm)\n",
    "\n",
    "        optimizer_R.zero_grad()\n",
    "        resnet_result = resnet_50(imgs)\n",
    "        loss = criterion_L(resnet_result, targets.type(torch.float))\n",
    "        batch_loss_resnet = loss.item()\n",
    "        loss.backward()\n",
    "        optimizer_R.step()\n",
    "        resnet_losses.append(batch_loss_resnet)\n",
    "\n",
    "    loss_lstm= np.mean(lstm_losses)\n",
    "    loss_resnet= np.mean(resnet_losses)\n",
    "    if loss0 > loss_lstm:\n",
    "      loss0 = loss_lstm\n",
    "      torch.save(lstm_bert.state_dict(),'lstm_at.pth')\n",
    "\n",
    "    if loss1 > loss_resnet:\n",
    "      loss1 = loss_resnet\n",
    "      torch.save(resnet_50.state_dict(),'resnet_50.pth')\n",
    "\n",
    "    resnet_50.eval()\n",
    "    lstm_bert.eval() \n",
    "    with torch.no_grad():\n",
    "        vaild_result = []\n",
    "        targets_list = []\n",
    "        val_losses = []\n",
    "        for imgs,targets,_,bert_output in tqdm(valid_loader_1):\n",
    "            bert_output = bert_output.to(device)\n",
    "            imgs, targets = imgs.to(device), targets.to(device)\n",
    "\n",
    "            valid_lstm_result = lstm_bert(bert_output)\n",
    "            valid_resnet_result = resnet_50(imgs)\n",
    "            result = (valid_lstm_result + valid_resnet_result) / 2\n",
    "            vaild_result.extend(result.cpu().numpy())\n",
    "            targets_list.extend(targets.cpu().numpy())\n",
    "\n",
    "    vaild_result = np.array(np.array(vaild_result) > 0, dtype=float)\n",
    "\n",
    "    f1 = f1_score(y_true=targets_list, y_pred=vaild_result, average='samples')\n",
    "    print(\"epoch:{:2d}  lstm_train: loss:{:.8f} resnet_train: loss:{:.8f}  valid f1:{:3f}\".format(epoch,loss_lstm,loss_resnet,f1))\n",
    "\n",
    "    lstm_bert.train()\n",
    "    resnet_50.train()\n",
    "    lstm_losses = []\n",
    "    resnet_losses = []\n",
    "    for imgs, targets,_, bert_output in tqdm(train_loader_2):\n",
    "        imgs, targets= imgs.to(device), targets.to(device)\n",
    "        bert_output = bert_output.to(device)\n",
    "\n",
    "        optimizer_L.zero_grad()\n",
    "        lstm_result = lstm_bert(bert_output)\n",
    "        loss = criterion_L(lstm_result, targets.type(torch.float))\n",
    "        batch_loss_lstm = loss.item()\n",
    "        loss.backward()\n",
    "        optimizer_L.step()\n",
    "        lstm_losses.append(batch_loss_lstm)\n",
    "\n",
    "        optimizer_R.zero_grad()\n",
    "        resnet_result = resnet_50(imgs)\n",
    "        loss = criterion_L(resnet_result, targets.type(torch.float))\n",
    "        batch_loss_resnet = loss.item()\n",
    "        loss.backward()\n",
    "        optimizer_R.step()\n",
    "        resnet_losses.append(batch_loss_resnet)\n",
    "\n",
    "    loss_lstm= np.mean(lstm_losses)\n",
    "    loss_resnet= np.mean(resnet_losses)\n",
    "    if loss0 > loss_lstm:\n",
    "      loss0 = loss_lstm\n",
    "      torch.save(lstm_bert.state_dict(),'lstm_at.pth')\n",
    "\n",
    "    if loss1 > loss_resnet:\n",
    "      loss1 = loss_resnet\n",
    "      torch.save(resnet_50.state_dict(),'resnet_18.pth')\n",
    "\n",
    "    resnet_50.eval()\n",
    "    lstm_bert.eval() \n",
    "    with torch.no_grad():\n",
    "        vaild_result = []\n",
    "        targets_list = []\n",
    "        val_losses = []\n",
    "        for imgs,targets,_,bert_output in tqdm(valid_loader_2):\n",
    "            bert_output = bert_output.to(device)\n",
    "            imgs, targets = imgs.to(device), targets.to(device)\n",
    "\n",
    "            valid_lstm_result = lstm_bert(bert_output)\n",
    "            valid_resnet_result = resnet_50(imgs)\n",
    "\n",
    "            result = (valid_lstm_result + valid_resnet_result) / 2\n",
    "            vaild_result.extend(result.cpu().numpy())\n",
    "            targets_list.extend(targets.cpu().numpy())\n",
    "\n",
    "    vaild_result = np.array(np.array(vaild_result) > 0, dtype=float)\n",
    "\n",
    "    f1 = f1_score(y_true=targets_list, y_pred=vaild_result, average='samples')\n",
    "    print(\"epoch:{:2d}  lstm_train: loss:{:.8f} resnet_train: loss:{:.8f}  valid f1:{:3f}\".format(epoch,loss_lstm,loss_resnet,f1))\n",
    "\n",
    "    epoch += 1\n",
    "    if max_epoch_number < epoch:\n",
    "        break"
   ]
  },
  {
   "cell_type": "code",
   "execution_count": 49,
   "metadata": {
    "scrolled": true
   },
   "outputs": [
    {
     "name": "stderr",
     "output_type": "stream",
     "text": [
      "100%|████████████████████████████████████████████████████████████████████████████████| 157/157 [01:05<00:00,  2.39it/s]\n"
     ]
    },
    {
     "name": "stdout",
     "output_type": "stream",
     "text": [
      "        ImageID Labels\n",
      "0     30000.jpg      1\n",
      "1     30001.jpg      1\n",
      "2     30002.jpg      1\n",
      "3     30003.jpg      1\n",
      "4     30004.jpg      1\n",
      "...         ...    ...\n",
      "9995  39995.jpg      1\n",
      "9996  39996.jpg    3 4\n",
      "9997  39997.jpg      1\n",
      "9998  39998.jpg      1\n",
      "9999  39999.jpg      1\n",
      "\n",
      "[10000 rows x 2 columns]\n"
     ]
    }
   ],
   "source": [
    "resnet_50.eval()\n",
    "lstm_bert.eval() \n",
    "\n",
    "with torch.no_grad():\n",
    "    test_result = []\n",
    "    iD = []\n",
    "    for imgs,id,bert_output in tqdm(test_loader):\n",
    "        bert_output = bert_output.to(device)\n",
    "        imgs= imgs.to(device)\n",
    "\n",
    "        valid_lstm_result = lstm_bert(bert_output)\n",
    "        valid_resnet_result = resnet_50(imgs)\n",
    "        result = torch.sigmoid(valid_lstm_result + valid_resnet_result)\n",
    "        test_result.extend(result.cpu().numpy())\n",
    "        iD.extend(id)\n",
    "\n",
    "test_result = np.array(np.array(test_result) > 0.5, dtype=float)\n",
    "labels = [onehot_to_labels(i) for i in test_result]\n",
    "\n",
    "result = {}\n",
    "for i,id_ in enumerate(iD):\n",
    "    result[id_] = labels[i]\n",
    "    \n",
    "dataframe = pd.DataFrame({'ImageID':iD,'Labels':labels})\n",
    "print(dataframe)\n",
    "dataframe.to_csv(r\"Output/test_result.csv\",index=False)\n",
    "dataframe.to_csv(r\"Output/test_result.txt\",index=False)"
   ]
  }
 ],
 "metadata": {
  "accelerator": "GPU",
  "colab": {
   "collapsed_sections": [],
   "machine_shape": "hm",
   "name": "Assignment2.ipynb",
   "provenance": []
  },
  "kernelspec": {
   "display_name": "Python 3",
   "language": "python",
   "name": "python3"
  },
  "language_info": {
   "codemirror_mode": {
    "name": "ipython",
    "version": 3
   },
   "file_extension": ".py",
   "mimetype": "text/x-python",
   "name": "python",
   "nbconvert_exporter": "python",
   "pygments_lexer": "ipython3",
   "version": "3.8.2"
  },
  "widgets": {
   "application/vnd.jupyter.widget-state+json": {
    "03032f9534e247e4a216ad13cc71f60c": {
     "model_module": "@jupyter-widgets/controls",
     "model_name": "FloatProgressModel",
     "state": {
      "_dom_classes": [],
      "_model_module": "@jupyter-widgets/controls",
      "_model_module_version": "1.5.0",
      "_model_name": "FloatProgressModel",
      "_view_count": null,
      "_view_module": "@jupyter-widgets/controls",
      "_view_module_version": "1.5.0",
      "_view_name": "ProgressView",
      "bar_style": "success",
      "description": "Downloading: 100%",
      "description_tooltip": null,
      "layout": "IPY_MODEL_ce68a00fa6d74b6980d69f9bd28d9270",
      "max": 28,
      "min": 0,
      "orientation": "horizontal",
      "style": "IPY_MODEL_c40f0e4ce5ad4acd87c54ff2c5ef8db6",
      "value": 28
     }
    },
    "100ff2cdbc4947c98eb653762f77870d": {
     "model_module": "@jupyter-widgets/controls",
     "model_name": "FloatProgressModel",
     "state": {
      "_dom_classes": [],
      "_model_module": "@jupyter-widgets/controls",
      "_model_module_version": "1.5.0",
      "_model_name": "FloatProgressModel",
      "_view_count": null,
      "_view_module": "@jupyter-widgets/controls",
      "_view_module_version": "1.5.0",
      "_view_name": "ProgressView",
      "bar_style": "success",
      "description": "Downloading: 100%",
      "description_tooltip": null,
      "layout": "IPY_MODEL_2b89f4aa0b8643aa98759aff78c3748f",
      "max": 440473133,
      "min": 0,
      "orientation": "horizontal",
      "style": "IPY_MODEL_18381a0bb79a44818da9f4b5e4d559cc",
      "value": 440473133
     }
    },
    "14da997c0d254e05aae6f97ed8b90a21": {
     "model_module": "@jupyter-widgets/controls",
     "model_name": "DescriptionStyleModel",
     "state": {
      "_model_module": "@jupyter-widgets/controls",
      "_model_module_version": "1.5.0",
      "_model_name": "DescriptionStyleModel",
      "_view_count": null,
      "_view_module": "@jupyter-widgets/base",
      "_view_module_version": "1.2.0",
      "_view_name": "StyleView",
      "description_width": ""
     }
    },
    "18381a0bb79a44818da9f4b5e4d559cc": {
     "model_module": "@jupyter-widgets/controls",
     "model_name": "ProgressStyleModel",
     "state": {
      "_model_module": "@jupyter-widgets/controls",
      "_model_module_version": "1.5.0",
      "_model_name": "ProgressStyleModel",
      "_view_count": null,
      "_view_module": "@jupyter-widgets/base",
      "_view_module_version": "1.2.0",
      "_view_name": "StyleView",
      "bar_color": null,
      "description_width": "initial"
     }
    },
    "1b3ca97f3e014eb08418374bcc43ea63": {
     "model_module": "@jupyter-widgets/base",
     "model_name": "LayoutModel",
     "state": {
      "_model_module": "@jupyter-widgets/base",
      "_model_module_version": "1.2.0",
      "_model_name": "LayoutModel",
      "_view_count": null,
      "_view_module": "@jupyter-widgets/base",
      "_view_module_version": "1.2.0",
      "_view_name": "LayoutView",
      "align_content": null,
      "align_items": null,
      "align_self": null,
      "border": null,
      "bottom": null,
      "display": null,
      "flex": null,
      "flex_flow": null,
      "grid_area": null,
      "grid_auto_columns": null,
      "grid_auto_flow": null,
      "grid_auto_rows": null,
      "grid_column": null,
      "grid_gap": null,
      "grid_row": null,
      "grid_template_areas": null,
      "grid_template_columns": null,
      "grid_template_rows": null,
      "height": null,
      "justify_content": null,
      "justify_items": null,
      "left": null,
      "margin": null,
      "max_height": null,
      "max_width": null,
      "min_height": null,
      "min_width": null,
      "object_fit": null,
      "object_position": null,
      "order": null,
      "overflow": null,
      "overflow_x": null,
      "overflow_y": null,
      "padding": null,
      "right": null,
      "top": null,
      "visibility": null,
      "width": null
     }
    },
    "2b89f4aa0b8643aa98759aff78c3748f": {
     "model_module": "@jupyter-widgets/base",
     "model_name": "LayoutModel",
     "state": {
      "_model_module": "@jupyter-widgets/base",
      "_model_module_version": "1.2.0",
      "_model_name": "LayoutModel",
      "_view_count": null,
      "_view_module": "@jupyter-widgets/base",
      "_view_module_version": "1.2.0",
      "_view_name": "LayoutView",
      "align_content": null,
      "align_items": null,
      "align_self": null,
      "border": null,
      "bottom": null,
      "display": null,
      "flex": null,
      "flex_flow": null,
      "grid_area": null,
      "grid_auto_columns": null,
      "grid_auto_flow": null,
      "grid_auto_rows": null,
      "grid_column": null,
      "grid_gap": null,
      "grid_row": null,
      "grid_template_areas": null,
      "grid_template_columns": null,
      "grid_template_rows": null,
      "height": null,
      "justify_content": null,
      "justify_items": null,
      "left": null,
      "margin": null,
      "max_height": null,
      "max_width": null,
      "min_height": null,
      "min_width": null,
      "object_fit": null,
      "object_position": null,
      "order": null,
      "overflow": null,
      "overflow_x": null,
      "overflow_y": null,
      "padding": null,
      "right": null,
      "top": null,
      "visibility": null,
      "width": null
     }
    },
    "2c940f2386524268a4480d4bede9762f": {
     "model_module": "@jupyter-widgets/controls",
     "model_name": "ProgressStyleModel",
     "state": {
      "_model_module": "@jupyter-widgets/controls",
      "_model_module_version": "1.5.0",
      "_model_name": "ProgressStyleModel",
      "_view_count": null,
      "_view_module": "@jupyter-widgets/base",
      "_view_module_version": "1.2.0",
      "_view_name": "StyleView",
      "bar_color": null,
      "description_width": "initial"
     }
    },
    "38c101147e6b4b23935716156feb866d": {
     "model_module": "@jupyter-widgets/base",
     "model_name": "LayoutModel",
     "state": {
      "_model_module": "@jupyter-widgets/base",
      "_model_module_version": "1.2.0",
      "_model_name": "LayoutModel",
      "_view_count": null,
      "_view_module": "@jupyter-widgets/base",
      "_view_module_version": "1.2.0",
      "_view_name": "LayoutView",
      "align_content": null,
      "align_items": null,
      "align_self": null,
      "border": null,
      "bottom": null,
      "display": null,
      "flex": null,
      "flex_flow": null,
      "grid_area": null,
      "grid_auto_columns": null,
      "grid_auto_flow": null,
      "grid_auto_rows": null,
      "grid_column": null,
      "grid_gap": null,
      "grid_row": null,
      "grid_template_areas": null,
      "grid_template_columns": null,
      "grid_template_rows": null,
      "height": null,
      "justify_content": null,
      "justify_items": null,
      "left": null,
      "margin": null,
      "max_height": null,
      "max_width": null,
      "min_height": null,
      "min_width": null,
      "object_fit": null,
      "object_position": null,
      "order": null,
      "overflow": null,
      "overflow_x": null,
      "overflow_y": null,
      "padding": null,
      "right": null,
      "top": null,
      "visibility": null,
      "width": null
     }
    },
    "39304e7bc1584df4aa80af0e7604e1d6": {
     "model_module": "@jupyter-widgets/base",
     "model_name": "LayoutModel",
     "state": {
      "_model_module": "@jupyter-widgets/base",
      "_model_module_version": "1.2.0",
      "_model_name": "LayoutModel",
      "_view_count": null,
      "_view_module": "@jupyter-widgets/base",
      "_view_module_version": "1.2.0",
      "_view_name": "LayoutView",
      "align_content": null,
      "align_items": null,
      "align_self": null,
      "border": null,
      "bottom": null,
      "display": null,
      "flex": null,
      "flex_flow": null,
      "grid_area": null,
      "grid_auto_columns": null,
      "grid_auto_flow": null,
      "grid_auto_rows": null,
      "grid_column": null,
      "grid_gap": null,
      "grid_row": null,
      "grid_template_areas": null,
      "grid_template_columns": null,
      "grid_template_rows": null,
      "height": null,
      "justify_content": null,
      "justify_items": null,
      "left": null,
      "margin": null,
      "max_height": null,
      "max_width": null,
      "min_height": null,
      "min_width": null,
      "object_fit": null,
      "object_position": null,
      "order": null,
      "overflow": null,
      "overflow_x": null,
      "overflow_y": null,
      "padding": null,
      "right": null,
      "top": null,
      "visibility": null,
      "width": null
     }
    },
    "3e22013c70b5460ab43a8dd7ea2ab9e1": {
     "model_module": "@jupyter-widgets/controls",
     "model_name": "HTMLModel",
     "state": {
      "_dom_classes": [],
      "_model_module": "@jupyter-widgets/controls",
      "_model_module_version": "1.5.0",
      "_model_name": "HTMLModel",
      "_view_count": null,
      "_view_module": "@jupyter-widgets/controls",
      "_view_module_version": "1.5.0",
      "_view_name": "HTMLView",
      "description": "",
      "description_tooltip": null,
      "layout": "IPY_MODEL_78b5eae47e5d4db39f699e4260701394",
      "placeholder": "​",
      "style": "IPY_MODEL_95d3feb01a404ba9b774f01ca3aea37e",
      "value": " 440M/440M [00:12&lt;00:00, 34.3MB/s]"
     }
    },
    "3fa6e13deb4446eaaeca69790a3f00e5": {
     "model_module": "@jupyter-widgets/controls",
     "model_name": "HTMLModel",
     "state": {
      "_dom_classes": [],
      "_model_module": "@jupyter-widgets/controls",
      "_model_module_version": "1.5.0",
      "_model_name": "HTMLModel",
      "_view_count": null,
      "_view_module": "@jupyter-widgets/controls",
      "_view_module_version": "1.5.0",
      "_view_name": "HTMLView",
      "description": "",
      "description_tooltip": null,
      "layout": "IPY_MODEL_c27dd470085b47a8878dc5aa337f8be9",
      "placeholder": "​",
      "style": "IPY_MODEL_14da997c0d254e05aae6f97ed8b90a21",
      "value": " 570/570 [00:01&lt;00:00, 474B/s]"
     }
    },
    "421d33ab9b274eacadae3048e1d7a8d6": {
     "model_module": "@jupyter-widgets/controls",
     "model_name": "HBoxModel",
     "state": {
      "_dom_classes": [],
      "_model_module": "@jupyter-widgets/controls",
      "_model_module_version": "1.5.0",
      "_model_name": "HBoxModel",
      "_view_count": null,
      "_view_module": "@jupyter-widgets/controls",
      "_view_module_version": "1.5.0",
      "_view_name": "HBoxView",
      "box_style": "",
      "children": [
       "IPY_MODEL_100ff2cdbc4947c98eb653762f77870d",
       "IPY_MODEL_3e22013c70b5460ab43a8dd7ea2ab9e1"
      ],
      "layout": "IPY_MODEL_e606cc634e344d6abedd2e81f0a5b643"
     }
    },
    "43253b42373340a8ac8fb9942f9ee786": {
     "model_module": "@jupyter-widgets/controls",
     "model_name": "DescriptionStyleModel",
     "state": {
      "_model_module": "@jupyter-widgets/controls",
      "_model_module_version": "1.5.0",
      "_model_name": "DescriptionStyleModel",
      "_view_count": null,
      "_view_module": "@jupyter-widgets/base",
      "_view_module_version": "1.2.0",
      "_view_name": "StyleView",
      "description_width": ""
     }
    },
    "4779990396f14266af8fdd81d0891332": {
     "model_module": "@jupyter-widgets/controls",
     "model_name": "ProgressStyleModel",
     "state": {
      "_model_module": "@jupyter-widgets/controls",
      "_model_module_version": "1.5.0",
      "_model_name": "ProgressStyleModel",
      "_view_count": null,
      "_view_module": "@jupyter-widgets/base",
      "_view_module_version": "1.2.0",
      "_view_name": "StyleView",
      "bar_color": null,
      "description_width": "initial"
     }
    },
    "4affbc52441946b1a16fdb76d849192f": {
     "model_module": "@jupyter-widgets/base",
     "model_name": "LayoutModel",
     "state": {
      "_model_module": "@jupyter-widgets/base",
      "_model_module_version": "1.2.0",
      "_model_name": "LayoutModel",
      "_view_count": null,
      "_view_module": "@jupyter-widgets/base",
      "_view_module_version": "1.2.0",
      "_view_name": "LayoutView",
      "align_content": null,
      "align_items": null,
      "align_self": null,
      "border": null,
      "bottom": null,
      "display": null,
      "flex": null,
      "flex_flow": null,
      "grid_area": null,
      "grid_auto_columns": null,
      "grid_auto_flow": null,
      "grid_auto_rows": null,
      "grid_column": null,
      "grid_gap": null,
      "grid_row": null,
      "grid_template_areas": null,
      "grid_template_columns": null,
      "grid_template_rows": null,
      "height": null,
      "justify_content": null,
      "justify_items": null,
      "left": null,
      "margin": null,
      "max_height": null,
      "max_width": null,
      "min_height": null,
      "min_width": null,
      "object_fit": null,
      "object_position": null,
      "order": null,
      "overflow": null,
      "overflow_x": null,
      "overflow_y": null,
      "padding": null,
      "right": null,
      "top": null,
      "visibility": null,
      "width": null
     }
    },
    "56008a90abb34744846f3f9b2f0c94c6": {
     "model_module": "@jupyter-widgets/controls",
     "model_name": "HBoxModel",
     "state": {
      "_dom_classes": [],
      "_model_module": "@jupyter-widgets/controls",
      "_model_module_version": "1.5.0",
      "_model_name": "HBoxModel",
      "_view_count": null,
      "_view_module": "@jupyter-widgets/controls",
      "_view_module_version": "1.5.0",
      "_view_name": "HBoxView",
      "box_style": "",
      "children": [
       "IPY_MODEL_bd6377b0ccb542c487e08dd362d51e07",
       "IPY_MODEL_f6ab1db000ff4f548f38f78246836d41"
      ],
      "layout": "IPY_MODEL_39304e7bc1584df4aa80af0e7604e1d6"
     }
    },
    "62e377a24c4142c68f47e2c5ec8198ef": {
     "model_module": "@jupyter-widgets/base",
     "model_name": "LayoutModel",
     "state": {
      "_model_module": "@jupyter-widgets/base",
      "_model_module_version": "1.2.0",
      "_model_name": "LayoutModel",
      "_view_count": null,
      "_view_module": "@jupyter-widgets/base",
      "_view_module_version": "1.2.0",
      "_view_name": "LayoutView",
      "align_content": null,
      "align_items": null,
      "align_self": null,
      "border": null,
      "bottom": null,
      "display": null,
      "flex": null,
      "flex_flow": null,
      "grid_area": null,
      "grid_auto_columns": null,
      "grid_auto_flow": null,
      "grid_auto_rows": null,
      "grid_column": null,
      "grid_gap": null,
      "grid_row": null,
      "grid_template_areas": null,
      "grid_template_columns": null,
      "grid_template_rows": null,
      "height": null,
      "justify_content": null,
      "justify_items": null,
      "left": null,
      "margin": null,
      "max_height": null,
      "max_width": null,
      "min_height": null,
      "min_width": null,
      "object_fit": null,
      "object_position": null,
      "order": null,
      "overflow": null,
      "overflow_x": null,
      "overflow_y": null,
      "padding": null,
      "right": null,
      "top": null,
      "visibility": null,
      "width": null
     }
    },
    "78b5eae47e5d4db39f699e4260701394": {
     "model_module": "@jupyter-widgets/base",
     "model_name": "LayoutModel",
     "state": {
      "_model_module": "@jupyter-widgets/base",
      "_model_module_version": "1.2.0",
      "_model_name": "LayoutModel",
      "_view_count": null,
      "_view_module": "@jupyter-widgets/base",
      "_view_module_version": "1.2.0",
      "_view_name": "LayoutView",
      "align_content": null,
      "align_items": null,
      "align_self": null,
      "border": null,
      "bottom": null,
      "display": null,
      "flex": null,
      "flex_flow": null,
      "grid_area": null,
      "grid_auto_columns": null,
      "grid_auto_flow": null,
      "grid_auto_rows": null,
      "grid_column": null,
      "grid_gap": null,
      "grid_row": null,
      "grid_template_areas": null,
      "grid_template_columns": null,
      "grid_template_rows": null,
      "height": null,
      "justify_content": null,
      "justify_items": null,
      "left": null,
      "margin": null,
      "max_height": null,
      "max_width": null,
      "min_height": null,
      "min_width": null,
      "object_fit": null,
      "object_position": null,
      "order": null,
      "overflow": null,
      "overflow_x": null,
      "overflow_y": null,
      "padding": null,
      "right": null,
      "top": null,
      "visibility": null,
      "width": null
     }
    },
    "7c952023f0494946b35330daecef239f": {
     "model_module": "@jupyter-widgets/controls",
     "model_name": "FloatProgressModel",
     "state": {
      "_dom_classes": [],
      "_model_module": "@jupyter-widgets/controls",
      "_model_module_version": "1.5.0",
      "_model_name": "FloatProgressModel",
      "_view_count": null,
      "_view_module": "@jupyter-widgets/controls",
      "_view_module_version": "1.5.0",
      "_view_name": "ProgressView",
      "bar_style": "success",
      "description": "Downloading: 100%",
      "description_tooltip": null,
      "layout": "IPY_MODEL_e40ed477c1e34083aea1c351ca6c6c04",
      "max": 570,
      "min": 0,
      "orientation": "horizontal",
      "style": "IPY_MODEL_2c940f2386524268a4480d4bede9762f",
      "value": 570
     }
    },
    "7d9c61014cf6446ea74e11cb2d30248a": {
     "model_module": "@jupyter-widgets/controls",
     "model_name": "ProgressStyleModel",
     "state": {
      "_model_module": "@jupyter-widgets/controls",
      "_model_module_version": "1.5.0",
      "_model_name": "ProgressStyleModel",
      "_view_count": null,
      "_view_module": "@jupyter-widgets/base",
      "_view_module_version": "1.2.0",
      "_view_name": "StyleView",
      "bar_color": null,
      "description_width": "initial"
     }
    },
    "8836f06ed36e430198ffe4c7848fe5cc": {
     "model_module": "@jupyter-widgets/base",
     "model_name": "LayoutModel",
     "state": {
      "_model_module": "@jupyter-widgets/base",
      "_model_module_version": "1.2.0",
      "_model_name": "LayoutModel",
      "_view_count": null,
      "_view_module": "@jupyter-widgets/base",
      "_view_module_version": "1.2.0",
      "_view_name": "LayoutView",
      "align_content": null,
      "align_items": null,
      "align_self": null,
      "border": null,
      "bottom": null,
      "display": null,
      "flex": null,
      "flex_flow": null,
      "grid_area": null,
      "grid_auto_columns": null,
      "grid_auto_flow": null,
      "grid_auto_rows": null,
      "grid_column": null,
      "grid_gap": null,
      "grid_row": null,
      "grid_template_areas": null,
      "grid_template_columns": null,
      "grid_template_rows": null,
      "height": null,
      "justify_content": null,
      "justify_items": null,
      "left": null,
      "margin": null,
      "max_height": null,
      "max_width": null,
      "min_height": null,
      "min_width": null,
      "object_fit": null,
      "object_position": null,
      "order": null,
      "overflow": null,
      "overflow_x": null,
      "overflow_y": null,
      "padding": null,
      "right": null,
      "top": null,
      "visibility": null,
      "width": null
     }
    },
    "89d17234db0e4f2eb2719af6a0d23388": {
     "model_module": "@jupyter-widgets/controls",
     "model_name": "HBoxModel",
     "state": {
      "_dom_classes": [],
      "_model_module": "@jupyter-widgets/controls",
      "_model_module_version": "1.5.0",
      "_model_name": "HBoxModel",
      "_view_count": null,
      "_view_module": "@jupyter-widgets/controls",
      "_view_module_version": "1.5.0",
      "_view_name": "HBoxView",
      "box_style": "",
      "children": [
       "IPY_MODEL_7c952023f0494946b35330daecef239f",
       "IPY_MODEL_3fa6e13deb4446eaaeca69790a3f00e5"
      ],
      "layout": "IPY_MODEL_9b30693121bd40d0834894aab5c999e2"
     }
    },
    "95d3feb01a404ba9b774f01ca3aea37e": {
     "model_module": "@jupyter-widgets/controls",
     "model_name": "DescriptionStyleModel",
     "state": {
      "_model_module": "@jupyter-widgets/controls",
      "_model_module_version": "1.5.0",
      "_model_name": "DescriptionStyleModel",
      "_view_count": null,
      "_view_module": "@jupyter-widgets/base",
      "_view_module_version": "1.2.0",
      "_view_name": "StyleView",
      "description_width": ""
     }
    },
    "9b30693121bd40d0834894aab5c999e2": {
     "model_module": "@jupyter-widgets/base",
     "model_name": "LayoutModel",
     "state": {
      "_model_module": "@jupyter-widgets/base",
      "_model_module_version": "1.2.0",
      "_model_name": "LayoutModel",
      "_view_count": null,
      "_view_module": "@jupyter-widgets/base",
      "_view_module_version": "1.2.0",
      "_view_name": "LayoutView",
      "align_content": null,
      "align_items": null,
      "align_self": null,
      "border": null,
      "bottom": null,
      "display": null,
      "flex": null,
      "flex_flow": null,
      "grid_area": null,
      "grid_auto_columns": null,
      "grid_auto_flow": null,
      "grid_auto_rows": null,
      "grid_column": null,
      "grid_gap": null,
      "grid_row": null,
      "grid_template_areas": null,
      "grid_template_columns": null,
      "grid_template_rows": null,
      "height": null,
      "justify_content": null,
      "justify_items": null,
      "left": null,
      "margin": null,
      "max_height": null,
      "max_width": null,
      "min_height": null,
      "min_width": null,
      "object_fit": null,
      "object_position": null,
      "order": null,
      "overflow": null,
      "overflow_x": null,
      "overflow_y": null,
      "padding": null,
      "right": null,
      "top": null,
      "visibility": null,
      "width": null
     }
    },
    "a65acab6e1714cf687e8f979207be605": {
     "model_module": "@jupyter-widgets/controls",
     "model_name": "FloatProgressModel",
     "state": {
      "_dom_classes": [],
      "_model_module": "@jupyter-widgets/controls",
      "_model_module_version": "1.5.0",
      "_model_name": "FloatProgressModel",
      "_view_count": null,
      "_view_module": "@jupyter-widgets/controls",
      "_view_module_version": "1.5.0",
      "_view_name": "ProgressView",
      "bar_style": "success",
      "description": "Downloading: 100%",
      "description_tooltip": null,
      "layout": "IPY_MODEL_62e377a24c4142c68f47e2c5ec8198ef",
      "max": 231508,
      "min": 0,
      "orientation": "horizontal",
      "style": "IPY_MODEL_4779990396f14266af8fdd81d0891332",
      "value": 231508
     }
    },
    "a90c179ab24c45739ea8a866fdafc46d": {
     "model_module": "@jupyter-widgets/controls",
     "model_name": "HBoxModel",
     "state": {
      "_dom_classes": [],
      "_model_module": "@jupyter-widgets/controls",
      "_model_module_version": "1.5.0",
      "_model_name": "HBoxModel",
      "_view_count": null,
      "_view_module": "@jupyter-widgets/controls",
      "_view_module_version": "1.5.0",
      "_view_name": "HBoxView",
      "box_style": "",
      "children": [
       "IPY_MODEL_a65acab6e1714cf687e8f979207be605",
       "IPY_MODEL_ab8d702516194d33ba94c09b812b2fe6"
      ],
      "layout": "IPY_MODEL_38c101147e6b4b23935716156feb866d"
     }
    },
    "aaa91684c4224d2a9ae9cd91e4fe7da9": {
     "model_module": "@jupyter-widgets/base",
     "model_name": "LayoutModel",
     "state": {
      "_model_module": "@jupyter-widgets/base",
      "_model_module_version": "1.2.0",
      "_model_name": "LayoutModel",
      "_view_count": null,
      "_view_module": "@jupyter-widgets/base",
      "_view_module_version": "1.2.0",
      "_view_name": "LayoutView",
      "align_content": null,
      "align_items": null,
      "align_self": null,
      "border": null,
      "bottom": null,
      "display": null,
      "flex": null,
      "flex_flow": null,
      "grid_area": null,
      "grid_auto_columns": null,
      "grid_auto_flow": null,
      "grid_auto_rows": null,
      "grid_column": null,
      "grid_gap": null,
      "grid_row": null,
      "grid_template_areas": null,
      "grid_template_columns": null,
      "grid_template_rows": null,
      "height": null,
      "justify_content": null,
      "justify_items": null,
      "left": null,
      "margin": null,
      "max_height": null,
      "max_width": null,
      "min_height": null,
      "min_width": null,
      "object_fit": null,
      "object_position": null,
      "order": null,
      "overflow": null,
      "overflow_x": null,
      "overflow_y": null,
      "padding": null,
      "right": null,
      "top": null,
      "visibility": null,
      "width": null
     }
    },
    "ab8d702516194d33ba94c09b812b2fe6": {
     "model_module": "@jupyter-widgets/controls",
     "model_name": "HTMLModel",
     "state": {
      "_dom_classes": [],
      "_model_module": "@jupyter-widgets/controls",
      "_model_module_version": "1.5.0",
      "_model_name": "HTMLModel",
      "_view_count": null,
      "_view_module": "@jupyter-widgets/controls",
      "_view_module_version": "1.5.0",
      "_view_name": "HTMLView",
      "description": "",
      "description_tooltip": null,
      "layout": "IPY_MODEL_eef9f7ade52d423f97ff0f4d6439c114",
      "placeholder": "​",
      "style": "IPY_MODEL_ba1eac9c73cd4391befebffd0ac26c13",
      "value": " 232k/232k [00:05&lt;00:00, 43.6kB/s]"
     }
    },
    "b19e851d2a14465fa7cb4e6bf21b36e0": {
     "model_module": "@jupyter-widgets/controls",
     "model_name": "DescriptionStyleModel",
     "state": {
      "_model_module": "@jupyter-widgets/controls",
      "_model_module_version": "1.5.0",
      "_model_name": "DescriptionStyleModel",
      "_view_count": null,
      "_view_module": "@jupyter-widgets/base",
      "_view_module_version": "1.2.0",
      "_view_name": "StyleView",
      "description_width": ""
     }
    },
    "ba1eac9c73cd4391befebffd0ac26c13": {
     "model_module": "@jupyter-widgets/controls",
     "model_name": "DescriptionStyleModel",
     "state": {
      "_model_module": "@jupyter-widgets/controls",
      "_model_module_version": "1.5.0",
      "_model_name": "DescriptionStyleModel",
      "_view_count": null,
      "_view_module": "@jupyter-widgets/base",
      "_view_module_version": "1.2.0",
      "_view_name": "StyleView",
      "description_width": ""
     }
    },
    "bd6377b0ccb542c487e08dd362d51e07": {
     "model_module": "@jupyter-widgets/controls",
     "model_name": "FloatProgressModel",
     "state": {
      "_dom_classes": [],
      "_model_module": "@jupyter-widgets/controls",
      "_model_module_version": "1.5.0",
      "_model_name": "FloatProgressModel",
      "_view_count": null,
      "_view_module": "@jupyter-widgets/controls",
      "_view_module_version": "1.5.0",
      "_view_name": "ProgressView",
      "bar_style": "success",
      "description": "Downloading: 100%",
      "description_tooltip": null,
      "layout": "IPY_MODEL_1b3ca97f3e014eb08418374bcc43ea63",
      "max": 466062,
      "min": 0,
      "orientation": "horizontal",
      "style": "IPY_MODEL_7d9c61014cf6446ea74e11cb2d30248a",
      "value": 466062
     }
    },
    "c27dd470085b47a8878dc5aa337f8be9": {
     "model_module": "@jupyter-widgets/base",
     "model_name": "LayoutModel",
     "state": {
      "_model_module": "@jupyter-widgets/base",
      "_model_module_version": "1.2.0",
      "_model_name": "LayoutModel",
      "_view_count": null,
      "_view_module": "@jupyter-widgets/base",
      "_view_module_version": "1.2.0",
      "_view_name": "LayoutView",
      "align_content": null,
      "align_items": null,
      "align_self": null,
      "border": null,
      "bottom": null,
      "display": null,
      "flex": null,
      "flex_flow": null,
      "grid_area": null,
      "grid_auto_columns": null,
      "grid_auto_flow": null,
      "grid_auto_rows": null,
      "grid_column": null,
      "grid_gap": null,
      "grid_row": null,
      "grid_template_areas": null,
      "grid_template_columns": null,
      "grid_template_rows": null,
      "height": null,
      "justify_content": null,
      "justify_items": null,
      "left": null,
      "margin": null,
      "max_height": null,
      "max_width": null,
      "min_height": null,
      "min_width": null,
      "object_fit": null,
      "object_position": null,
      "order": null,
      "overflow": null,
      "overflow_x": null,
      "overflow_y": null,
      "padding": null,
      "right": null,
      "top": null,
      "visibility": null,
      "width": null
     }
    },
    "c40f0e4ce5ad4acd87c54ff2c5ef8db6": {
     "model_module": "@jupyter-widgets/controls",
     "model_name": "ProgressStyleModel",
     "state": {
      "_model_module": "@jupyter-widgets/controls",
      "_model_module_version": "1.5.0",
      "_model_name": "ProgressStyleModel",
      "_view_count": null,
      "_view_module": "@jupyter-widgets/base",
      "_view_module_version": "1.2.0",
      "_view_name": "StyleView",
      "bar_color": null,
      "description_width": "initial"
     }
    },
    "cdaa92ba317747e081ee9f966c2baf86": {
     "model_module": "@jupyter-widgets/controls",
     "model_name": "HBoxModel",
     "state": {
      "_dom_classes": [],
      "_model_module": "@jupyter-widgets/controls",
      "_model_module_version": "1.5.0",
      "_model_name": "HBoxModel",
      "_view_count": null,
      "_view_module": "@jupyter-widgets/controls",
      "_view_module_version": "1.5.0",
      "_view_name": "HBoxView",
      "box_style": "",
      "children": [
       "IPY_MODEL_03032f9534e247e4a216ad13cc71f60c",
       "IPY_MODEL_cfe65ffc1da64685af986d81da965065"
      ],
      "layout": "IPY_MODEL_aaa91684c4224d2a9ae9cd91e4fe7da9"
     }
    },
    "ce68a00fa6d74b6980d69f9bd28d9270": {
     "model_module": "@jupyter-widgets/base",
     "model_name": "LayoutModel",
     "state": {
      "_model_module": "@jupyter-widgets/base",
      "_model_module_version": "1.2.0",
      "_model_name": "LayoutModel",
      "_view_count": null,
      "_view_module": "@jupyter-widgets/base",
      "_view_module_version": "1.2.0",
      "_view_name": "LayoutView",
      "align_content": null,
      "align_items": null,
      "align_self": null,
      "border": null,
      "bottom": null,
      "display": null,
      "flex": null,
      "flex_flow": null,
      "grid_area": null,
      "grid_auto_columns": null,
      "grid_auto_flow": null,
      "grid_auto_rows": null,
      "grid_column": null,
      "grid_gap": null,
      "grid_row": null,
      "grid_template_areas": null,
      "grid_template_columns": null,
      "grid_template_rows": null,
      "height": null,
      "justify_content": null,
      "justify_items": null,
      "left": null,
      "margin": null,
      "max_height": null,
      "max_width": null,
      "min_height": null,
      "min_width": null,
      "object_fit": null,
      "object_position": null,
      "order": null,
      "overflow": null,
      "overflow_x": null,
      "overflow_y": null,
      "padding": null,
      "right": null,
      "top": null,
      "visibility": null,
      "width": null
     }
    },
    "cfe65ffc1da64685af986d81da965065": {
     "model_module": "@jupyter-widgets/controls",
     "model_name": "HTMLModel",
     "state": {
      "_dom_classes": [],
      "_model_module": "@jupyter-widgets/controls",
      "_model_module_version": "1.5.0",
      "_model_name": "HTMLModel",
      "_view_count": null,
      "_view_module": "@jupyter-widgets/controls",
      "_view_module_version": "1.5.0",
      "_view_name": "HTMLView",
      "description": "",
      "description_tooltip": null,
      "layout": "IPY_MODEL_4affbc52441946b1a16fdb76d849192f",
      "placeholder": "​",
      "style": "IPY_MODEL_43253b42373340a8ac8fb9942f9ee786",
      "value": " 28.0/28.0 [00:01&lt;00:00, 18.3B/s]"
     }
    },
    "e40ed477c1e34083aea1c351ca6c6c04": {
     "model_module": "@jupyter-widgets/base",
     "model_name": "LayoutModel",
     "state": {
      "_model_module": "@jupyter-widgets/base",
      "_model_module_version": "1.2.0",
      "_model_name": "LayoutModel",
      "_view_count": null,
      "_view_module": "@jupyter-widgets/base",
      "_view_module_version": "1.2.0",
      "_view_name": "LayoutView",
      "align_content": null,
      "align_items": null,
      "align_self": null,
      "border": null,
      "bottom": null,
      "display": null,
      "flex": null,
      "flex_flow": null,
      "grid_area": null,
      "grid_auto_columns": null,
      "grid_auto_flow": null,
      "grid_auto_rows": null,
      "grid_column": null,
      "grid_gap": null,
      "grid_row": null,
      "grid_template_areas": null,
      "grid_template_columns": null,
      "grid_template_rows": null,
      "height": null,
      "justify_content": null,
      "justify_items": null,
      "left": null,
      "margin": null,
      "max_height": null,
      "max_width": null,
      "min_height": null,
      "min_width": null,
      "object_fit": null,
      "object_position": null,
      "order": null,
      "overflow": null,
      "overflow_x": null,
      "overflow_y": null,
      "padding": null,
      "right": null,
      "top": null,
      "visibility": null,
      "width": null
     }
    },
    "e606cc634e344d6abedd2e81f0a5b643": {
     "model_module": "@jupyter-widgets/base",
     "model_name": "LayoutModel",
     "state": {
      "_model_module": "@jupyter-widgets/base",
      "_model_module_version": "1.2.0",
      "_model_name": "LayoutModel",
      "_view_count": null,
      "_view_module": "@jupyter-widgets/base",
      "_view_module_version": "1.2.0",
      "_view_name": "LayoutView",
      "align_content": null,
      "align_items": null,
      "align_self": null,
      "border": null,
      "bottom": null,
      "display": null,
      "flex": null,
      "flex_flow": null,
      "grid_area": null,
      "grid_auto_columns": null,
      "grid_auto_flow": null,
      "grid_auto_rows": null,
      "grid_column": null,
      "grid_gap": null,
      "grid_row": null,
      "grid_template_areas": null,
      "grid_template_columns": null,
      "grid_template_rows": null,
      "height": null,
      "justify_content": null,
      "justify_items": null,
      "left": null,
      "margin": null,
      "max_height": null,
      "max_width": null,
      "min_height": null,
      "min_width": null,
      "object_fit": null,
      "object_position": null,
      "order": null,
      "overflow": null,
      "overflow_x": null,
      "overflow_y": null,
      "padding": null,
      "right": null,
      "top": null,
      "visibility": null,
      "width": null
     }
    },
    "eef9f7ade52d423f97ff0f4d6439c114": {
     "model_module": "@jupyter-widgets/base",
     "model_name": "LayoutModel",
     "state": {
      "_model_module": "@jupyter-widgets/base",
      "_model_module_version": "1.2.0",
      "_model_name": "LayoutModel",
      "_view_count": null,
      "_view_module": "@jupyter-widgets/base",
      "_view_module_version": "1.2.0",
      "_view_name": "LayoutView",
      "align_content": null,
      "align_items": null,
      "align_self": null,
      "border": null,
      "bottom": null,
      "display": null,
      "flex": null,
      "flex_flow": null,
      "grid_area": null,
      "grid_auto_columns": null,
      "grid_auto_flow": null,
      "grid_auto_rows": null,
      "grid_column": null,
      "grid_gap": null,
      "grid_row": null,
      "grid_template_areas": null,
      "grid_template_columns": null,
      "grid_template_rows": null,
      "height": null,
      "justify_content": null,
      "justify_items": null,
      "left": null,
      "margin": null,
      "max_height": null,
      "max_width": null,
      "min_height": null,
      "min_width": null,
      "object_fit": null,
      "object_position": null,
      "order": null,
      "overflow": null,
      "overflow_x": null,
      "overflow_y": null,
      "padding": null,
      "right": null,
      "top": null,
      "visibility": null,
      "width": null
     }
    },
    "f6ab1db000ff4f548f38f78246836d41": {
     "model_module": "@jupyter-widgets/controls",
     "model_name": "HTMLModel",
     "state": {
      "_dom_classes": [],
      "_model_module": "@jupyter-widgets/controls",
      "_model_module_version": "1.5.0",
      "_model_name": "HTMLModel",
      "_view_count": null,
      "_view_module": "@jupyter-widgets/controls",
      "_view_module_version": "1.5.0",
      "_view_name": "HTMLView",
      "description": "",
      "description_tooltip": null,
      "layout": "IPY_MODEL_8836f06ed36e430198ffe4c7848fe5cc",
      "placeholder": "​",
      "style": "IPY_MODEL_b19e851d2a14465fa7cb4e6bf21b36e0",
      "value": " 466k/466k [00:00&lt;00:00, 816kB/s]"
     }
    }
   }
  }
 },
 "nbformat": 4,
 "nbformat_minor": 1
}
